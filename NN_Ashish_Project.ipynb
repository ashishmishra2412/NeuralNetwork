{
 "cells": [
  {
   "cell_type": "markdown",
   "id": "4d060f10",
   "metadata": {},
   "source": [
    "# PART A - DOMAIN: Electronics and Telecommunication"
   ]
  },
  {
   "cell_type": "markdown",
   "id": "5dc7f0f2",
   "metadata": {},
   "source": [
    "1. Data import and Understanding \n",
    "A. Read the ‘Signals.csv’ as DataFrame and import required libraries.\n",
    "B. Check for missing values and print percentage for each attribute.\n",
    "C. Check for presence of duplicate records in the dataset and impute with appropriate method.\n",
    "D. Visualise distribution of the target variable.\n",
    "E. Share insights from the initial data analysis (at least 2).\n",
    "2. Data preprocessing\n",
    "A. Split the data into X & Y. \n",
    "B. Split the data into train & test with 70:30 proportion.\n",
    "C. Print shape of all the 4 variables and verify if train and test data is in sync.\n",
    "D. Normalise the train and test data with appropriate method.\n",
    "E. Transform Labels into format acceptable by Neural Network\n",
    "3. Model Training & Evaluation using Neural Network \n",
    "A. Design a Neural Network to train a classifier.\n",
    "B. Train the classifier using previously designed Architecture\n",
    "C. Plot 2 separate visuals. \n",
    "i. Training Loss and Validation Loss\n",
    "ii. Training Accuracy and Validation Accuracy\n",
    "D. Design new architecture/update existing architecture in attempt to improve the performance of the model.\n",
    "E. Plot visuals as in Q3.C and share insights about difference observed in both the models."
   ]
  },
  {
   "cell_type": "markdown",
   "id": "6165cb07",
   "metadata": {},
   "source": [
    "# 1. Data import and Understanding"
   ]
  },
  {
   "cell_type": "markdown",
   "id": "03e2f4a1",
   "metadata": {},
   "source": [
    "A. Read the ‘Signals.csv’ as DataFrame and import required libraries."
   ]
  },
  {
   "cell_type": "code",
   "execution_count": 4,
   "id": "f6b23ff2",
   "metadata": {},
   "outputs": [
    {
     "name": "stdout",
     "output_type": "stream",
     "text": [
      "Collecting tensorflow\n",
      "  Downloading tensorflow-2.8.0-cp38-cp38-macosx_10_14_x86_64.whl (217.4 MB)\n",
      "\u001b[K     |████████████████████████████████| 217.4 MB 9.4 kB/s eta 0:00:016  |▏                               | 952 kB 2.9 MB/s eta 0:01:15     |████▋                           | 31.6 MB 1.9 MB/s eta 0:01:36     |████████▉                       | 60.1 MB 3.3 MB/s eta 0:00:48     |█████████                       | 61.1 MB 3.6 MB/s eta 0:00:44     |██████████████                  | 95.7 MB 4.5 MB/s eta 0:00:28     |██████████████▍                 | 97.6 MB 4.6 MB/s eta 0:00:27     |██████████████▍                 | 97.9 MB 4.6 MB/s eta 0:00:27     |█████████████████               | 115.8 MB 4.4 MB/s eta 0:00:24     |███████████████████████████████▌| 214.4 MB 5.3 MB/s eta 0:00:01\n",
      "\u001b[?25hCollecting grpcio<2.0,>=1.24.3\n",
      "  Downloading grpcio-1.46.1-cp38-cp38-macosx_10_10_x86_64.whl (4.4 MB)\n",
      "\u001b[K     |████████████████████████████████| 4.4 MB 1.5 MB/s eta 0:00:01\n",
      "\u001b[?25hRequirement already satisfied: setuptools in /Users/kabirmishra/opt/anaconda3/lib/python3.8/site-packages (from tensorflow) (52.0.0.post20210125)\n",
      "Requirement already satisfied: numpy>=1.20 in /Users/kabirmishra/opt/anaconda3/lib/python3.8/site-packages (from tensorflow) (1.20.1)\n",
      "Collecting google-pasta>=0.1.1\n",
      "  Downloading google_pasta-0.2.0-py3-none-any.whl (57 kB)\n",
      "\u001b[K     |████████████████████████████████| 57 kB 3.3 MB/s eta 0:00:01\n",
      "\u001b[?25hCollecting libclang>=9.0.1\n",
      "  Downloading libclang-14.0.1-py2.py3-none-macosx_10_9_x86_64.whl (13.2 MB)\n",
      "\u001b[K     |████████████████████████████████| 13.2 MB 4.2 MB/s eta 0:00:01\n",
      "\u001b[?25hCollecting opt-einsum>=2.3.2\n",
      "  Downloading opt_einsum-3.3.0-py3-none-any.whl (65 kB)\n",
      "\u001b[K     |████████████████████████████████| 65 kB 2.9 MB/s eta 0:00:01\n",
      "\u001b[?25hRequirement already satisfied: wrapt>=1.11.0 in /Users/kabirmishra/opt/anaconda3/lib/python3.8/site-packages (from tensorflow) (1.12.1)\n",
      "Collecting astunparse>=1.6.0\n",
      "  Downloading astunparse-1.6.3-py2.py3-none-any.whl (12 kB)\n",
      "Collecting tensorboard<2.9,>=2.8\n",
      "  Downloading tensorboard-2.8.0-py3-none-any.whl (5.8 MB)\n",
      "\u001b[K     |████████████████████████████████| 5.8 MB 3.1 MB/s eta 0:00:01\n",
      "\u001b[?25hCollecting gast>=0.2.1\n",
      "  Downloading gast-0.5.3-py3-none-any.whl (19 kB)\n",
      "Collecting tensorflow-io-gcs-filesystem>=0.23.1\n",
      "  Downloading tensorflow_io_gcs_filesystem-0.25.0-cp38-cp38-macosx_10_14_x86_64.whl (1.6 MB)\n",
      "\u001b[K     |████████████████████████████████| 1.6 MB 5.4 MB/s eta 0:00:01\n",
      "\u001b[?25hCollecting keras<2.9,>=2.8.0rc0\n",
      "  Downloading keras-2.8.0-py2.py3-none-any.whl (1.4 MB)\n",
      "\u001b[K     |████████████████████████████████| 1.4 MB 4.2 MB/s eta 0:00:01\n",
      "\u001b[?25hCollecting protobuf>=3.9.2\n",
      "  Downloading protobuf-3.20.1-cp38-cp38-macosx_10_9_x86_64.whl (962 kB)\n",
      "\u001b[K     |████████████████████████████████| 962 kB 4.5 MB/s eta 0:00:01\n",
      "\u001b[?25hCollecting termcolor>=1.1.0\n",
      "  Downloading termcolor-1.1.0.tar.gz (3.9 kB)\n",
      "Requirement already satisfied: h5py>=2.9.0 in /Users/kabirmishra/opt/anaconda3/lib/python3.8/site-packages (from tensorflow) (2.10.0)\n",
      "Collecting tf-estimator-nightly==2.8.0.dev2021122109\n",
      "  Downloading tf_estimator_nightly-2.8.0.dev2021122109-py2.py3-none-any.whl (462 kB)\n",
      "\u001b[K     |████████████████████████████████| 462 kB 3.1 MB/s eta 0:00:01\n",
      "\u001b[?25hRequirement already satisfied: six>=1.12.0 in /Users/kabirmishra/opt/anaconda3/lib/python3.8/site-packages (from tensorflow) (1.15.0)\n",
      "Requirement already satisfied: typing-extensions>=3.6.6 in /Users/kabirmishra/opt/anaconda3/lib/python3.8/site-packages (from tensorflow) (3.7.4.3)\n",
      "Collecting absl-py>=0.4.0\n",
      "  Downloading absl_py-1.0.0-py3-none-any.whl (126 kB)\n",
      "\u001b[K     |████████████████████████████████| 126 kB 2.8 MB/s eta 0:00:01\n",
      "\u001b[?25hCollecting flatbuffers>=1.12\n",
      "  Downloading flatbuffers-2.0-py2.py3-none-any.whl (26 kB)\n",
      "Collecting keras-preprocessing>=1.1.1\n",
      "  Downloading Keras_Preprocessing-1.1.2-py2.py3-none-any.whl (42 kB)\n",
      "\u001b[K     |████████████████████████████████| 42 kB 1.2 MB/s eta 0:00:01\n",
      "\u001b[?25hRequirement already satisfied: wheel<1.0,>=0.23.0 in /Users/kabirmishra/opt/anaconda3/lib/python3.8/site-packages (from astunparse>=1.6.0->tensorflow) (0.36.2)\n",
      "Collecting google-auth<3,>=1.6.3\n",
      "  Downloading google_auth-2.6.6-py2.py3-none-any.whl (156 kB)\n",
      "\u001b[K     |████████████████████████████████| 156 kB 4.1 MB/s eta 0:00:01\n",
      "\u001b[?25hRequirement already satisfied: requests<3,>=2.21.0 in /Users/kabirmishra/opt/anaconda3/lib/python3.8/site-packages (from tensorboard<2.9,>=2.8->tensorflow) (2.25.1)\n",
      "Collecting tensorboard-plugin-wit>=1.6.0\n",
      "  Downloading tensorboard_plugin_wit-1.8.1-py3-none-any.whl (781 kB)\n",
      "\u001b[K     |████████████████████████████████| 781 kB 3.8 MB/s eta 0:00:01\n",
      "\u001b[?25hCollecting markdown>=2.6.8\n",
      "  Downloading Markdown-3.3.7-py3-none-any.whl (97 kB)\n",
      "\u001b[K     |████████████████████████████████| 97 kB 3.9 MB/s eta 0:00:01\n",
      "\u001b[?25hCollecting tensorboard-data-server<0.7.0,>=0.6.0\n",
      "  Downloading tensorboard_data_server-0.6.1-py3-none-macosx_10_9_x86_64.whl (3.5 MB)\n",
      "\u001b[K     |████████████████████████████████| 3.5 MB 4.3 MB/s eta 0:00:01\n",
      "\u001b[?25hRequirement already satisfied: werkzeug>=0.11.15 in /Users/kabirmishra/opt/anaconda3/lib/python3.8/site-packages (from tensorboard<2.9,>=2.8->tensorflow) (1.0.1)\n",
      "Collecting google-auth-oauthlib<0.5,>=0.4.1\n",
      "  Downloading google_auth_oauthlib-0.4.6-py2.py3-none-any.whl (18 kB)\n",
      "Collecting rsa<5,>=3.1.4\n",
      "  Downloading rsa-4.8-py3-none-any.whl (39 kB)\n",
      "Collecting cachetools<6.0,>=2.0.0\n",
      "  Downloading cachetools-5.0.0-py3-none-any.whl (9.1 kB)\n",
      "Collecting pyasn1-modules>=0.2.1\n",
      "  Downloading pyasn1_modules-0.2.8-py2.py3-none-any.whl (155 kB)\n",
      "\u001b[K     |████████████████████████████████| 155 kB 3.3 MB/s eta 0:00:01\n",
      "\u001b[?25hCollecting requests-oauthlib>=0.7.0\n",
      "  Downloading requests_oauthlib-1.3.1-py2.py3-none-any.whl (23 kB)\n",
      "Collecting importlib-metadata>=4.4\n",
      "  Downloading importlib_metadata-4.11.3-py3-none-any.whl (18 kB)\n",
      "Requirement already satisfied: zipp>=0.5 in /Users/kabirmishra/opt/anaconda3/lib/python3.8/site-packages (from importlib-metadata>=4.4->markdown>=2.6.8->tensorboard<2.9,>=2.8->tensorflow) (3.4.1)\n",
      "Collecting pyasn1<0.5.0,>=0.4.6\n",
      "  Downloading pyasn1-0.4.8-py2.py3-none-any.whl (77 kB)\n",
      "\u001b[K     |████████████████████████████████| 77 kB 3.6 MB/s eta 0:00:011\n",
      "\u001b[?25hRequirement already satisfied: urllib3<1.27,>=1.21.1 in /Users/kabirmishra/opt/anaconda3/lib/python3.8/site-packages (from requests<3,>=2.21.0->tensorboard<2.9,>=2.8->tensorflow) (1.26.4)\n",
      "Requirement already satisfied: idna<3,>=2.5 in /Users/kabirmishra/opt/anaconda3/lib/python3.8/site-packages (from requests<3,>=2.21.0->tensorboard<2.9,>=2.8->tensorflow) (2.10)\n",
      "Requirement already satisfied: certifi>=2017.4.17 in /Users/kabirmishra/opt/anaconda3/lib/python3.8/site-packages (from requests<3,>=2.21.0->tensorboard<2.9,>=2.8->tensorflow) (2020.12.5)\n",
      "Requirement already satisfied: chardet<5,>=3.0.2 in /Users/kabirmishra/opt/anaconda3/lib/python3.8/site-packages (from requests<3,>=2.21.0->tensorboard<2.9,>=2.8->tensorflow) (4.0.0)\n",
      "Collecting oauthlib>=3.0.0\n",
      "  Downloading oauthlib-3.2.0-py3-none-any.whl (151 kB)\n",
      "\u001b[K     |████████████████████████████████| 151 kB 4.3 MB/s eta 0:00:01\n",
      "\u001b[?25hBuilding wheels for collected packages: termcolor\n",
      "  Building wheel for termcolor (setup.py) ... \u001b[?25ldone\n",
      "\u001b[?25h  Created wheel for termcolor: filename=termcolor-1.1.0-py3-none-any.whl size=4829 sha256=b2ff446739e97a3068afab73b14192876added895f9467a9f0faf98beb935202\n",
      "  Stored in directory: /Users/kabirmishra/Library/Caches/pip/wheels/a0/16/9c/5473df82468f958445479c59e784896fa24f4a5fc024b0f501\n",
      "Successfully built termcolor\n",
      "Installing collected packages: pyasn1, rsa, pyasn1-modules, oauthlib, cachetools, requests-oauthlib, importlib-metadata, google-auth, tensorboard-plugin-wit, tensorboard-data-server, protobuf, markdown, grpcio, google-auth-oauthlib, absl-py, tf-estimator-nightly, termcolor, tensorflow-io-gcs-filesystem, tensorboard, opt-einsum, libclang, keras-preprocessing, keras, google-pasta, gast, flatbuffers, astunparse, tensorflow\n",
      "  Attempting uninstall: importlib-metadata\n",
      "    Found existing installation: importlib-metadata 3.10.0\n",
      "    Uninstalling importlib-metadata-3.10.0:\n",
      "      Successfully uninstalled importlib-metadata-3.10.0\n",
      "Successfully installed absl-py-1.0.0 astunparse-1.6.3 cachetools-5.0.0 flatbuffers-2.0 gast-0.5.3 google-auth-2.6.6 google-auth-oauthlib-0.4.6 google-pasta-0.2.0 grpcio-1.46.1 importlib-metadata-4.11.3 keras-2.8.0 keras-preprocessing-1.1.2 libclang-14.0.1 markdown-3.3.7 oauthlib-3.2.0 opt-einsum-3.3.0 protobuf-3.20.1 pyasn1-0.4.8 pyasn1-modules-0.2.8 requests-oauthlib-1.3.1 rsa-4.8 tensorboard-2.8.0 tensorboard-data-server-0.6.1 tensorboard-plugin-wit-1.8.1 tensorflow-2.8.0 tensorflow-io-gcs-filesystem-0.25.0 termcolor-1.1.0 tf-estimator-nightly-2.8.0.dev2021122109\n",
      "Note: you may need to restart the kernel to use updated packages.\n"
     ]
    }
   ],
   "source": [
    "pip install --upgrade tensorflow"
   ]
  },
  {
   "cell_type": "code",
   "execution_count": 1,
   "id": "016c0bac",
   "metadata": {},
   "outputs": [
    {
     "data": {
      "text/plain": [
       "'2.8.0'"
      ]
     },
     "execution_count": 1,
     "metadata": {},
     "output_type": "execute_result"
    }
   ],
   "source": [
    "#%tensorflow_version 2.x\n",
    "import tensorflow as tf\n",
    "tf.__version__"
   ]
  },
  {
   "cell_type": "code",
   "execution_count": 121,
   "id": "61bc543b",
   "metadata": {},
   "outputs": [],
   "source": [
    "import numpy as np       # Library for number operations\n",
    "import pandas as pd      # Library for data operations\n",
    "\n",
    "import seaborn as sns\n",
    "import matplotlib.pyplot as plt\n",
    "from tensorflow.keras import regularizers, optimizers\n",
    "from tensorflow.keras.utils import to_categorical\n",
    "from sklearn.model_selection import train_test_split\n",
    "from tensorflow.keras.models import load_model\n",
    "from tensorflow.keras.models import Sequential\n",
    "from tensorflow.keras.layers import Dense\n",
    "from keras.layers import BatchNormalization\n",
    "from sklearn.preprocessing import StandardScaler"
   ]
  },
  {
   "cell_type": "code",
   "execution_count": 122,
   "id": "bf11101f",
   "metadata": {},
   "outputs": [
    {
     "data": {
      "text/html": [
       "<div>\n",
       "<style scoped>\n",
       "    .dataframe tbody tr th:only-of-type {\n",
       "        vertical-align: middle;\n",
       "    }\n",
       "\n",
       "    .dataframe tbody tr th {\n",
       "        vertical-align: top;\n",
       "    }\n",
       "\n",
       "    .dataframe thead th {\n",
       "        text-align: right;\n",
       "    }\n",
       "</style>\n",
       "<table border=\"1\" class=\"dataframe\">\n",
       "  <thead>\n",
       "    <tr style=\"text-align: right;\">\n",
       "      <th></th>\n",
       "      <th>Parameter 1</th>\n",
       "      <th>Parameter 2</th>\n",
       "      <th>Parameter 3</th>\n",
       "      <th>Parameter 4</th>\n",
       "      <th>Parameter 5</th>\n",
       "      <th>Parameter 6</th>\n",
       "      <th>Parameter 7</th>\n",
       "      <th>Parameter 8</th>\n",
       "      <th>Parameter 9</th>\n",
       "      <th>Parameter 10</th>\n",
       "      <th>Parameter 11</th>\n",
       "      <th>Signal_Strength</th>\n",
       "    </tr>\n",
       "  </thead>\n",
       "  <tbody>\n",
       "    <tr>\n",
       "      <th>0</th>\n",
       "      <td>7.4</td>\n",
       "      <td>0.70</td>\n",
       "      <td>0.00</td>\n",
       "      <td>1.9</td>\n",
       "      <td>0.076</td>\n",
       "      <td>11.0</td>\n",
       "      <td>34.0</td>\n",
       "      <td>0.9978</td>\n",
       "      <td>3.51</td>\n",
       "      <td>0.56</td>\n",
       "      <td>9.4</td>\n",
       "      <td>5</td>\n",
       "    </tr>\n",
       "    <tr>\n",
       "      <th>1</th>\n",
       "      <td>7.8</td>\n",
       "      <td>0.88</td>\n",
       "      <td>0.00</td>\n",
       "      <td>2.6</td>\n",
       "      <td>0.098</td>\n",
       "      <td>25.0</td>\n",
       "      <td>67.0</td>\n",
       "      <td>0.9968</td>\n",
       "      <td>3.20</td>\n",
       "      <td>0.68</td>\n",
       "      <td>9.8</td>\n",
       "      <td>5</td>\n",
       "    </tr>\n",
       "    <tr>\n",
       "      <th>2</th>\n",
       "      <td>7.8</td>\n",
       "      <td>0.76</td>\n",
       "      <td>0.04</td>\n",
       "      <td>2.3</td>\n",
       "      <td>0.092</td>\n",
       "      <td>15.0</td>\n",
       "      <td>54.0</td>\n",
       "      <td>0.9970</td>\n",
       "      <td>3.26</td>\n",
       "      <td>0.65</td>\n",
       "      <td>9.8</td>\n",
       "      <td>5</td>\n",
       "    </tr>\n",
       "    <tr>\n",
       "      <th>3</th>\n",
       "      <td>11.2</td>\n",
       "      <td>0.28</td>\n",
       "      <td>0.56</td>\n",
       "      <td>1.9</td>\n",
       "      <td>0.075</td>\n",
       "      <td>17.0</td>\n",
       "      <td>60.0</td>\n",
       "      <td>0.9980</td>\n",
       "      <td>3.16</td>\n",
       "      <td>0.58</td>\n",
       "      <td>9.8</td>\n",
       "      <td>6</td>\n",
       "    </tr>\n",
       "    <tr>\n",
       "      <th>4</th>\n",
       "      <td>7.4</td>\n",
       "      <td>0.70</td>\n",
       "      <td>0.00</td>\n",
       "      <td>1.9</td>\n",
       "      <td>0.076</td>\n",
       "      <td>11.0</td>\n",
       "      <td>34.0</td>\n",
       "      <td>0.9978</td>\n",
       "      <td>3.51</td>\n",
       "      <td>0.56</td>\n",
       "      <td>9.4</td>\n",
       "      <td>5</td>\n",
       "    </tr>\n",
       "  </tbody>\n",
       "</table>\n",
       "</div>"
      ],
      "text/plain": [
       "   Parameter 1  Parameter 2  Parameter 3  Parameter 4  Parameter 5  \\\n",
       "0          7.4         0.70         0.00          1.9        0.076   \n",
       "1          7.8         0.88         0.00          2.6        0.098   \n",
       "2          7.8         0.76         0.04          2.3        0.092   \n",
       "3         11.2         0.28         0.56          1.9        0.075   \n",
       "4          7.4         0.70         0.00          1.9        0.076   \n",
       "\n",
       "   Parameter 6  Parameter 7  Parameter 8  Parameter 9  Parameter 10  \\\n",
       "0         11.0         34.0       0.9978         3.51          0.56   \n",
       "1         25.0         67.0       0.9968         3.20          0.68   \n",
       "2         15.0         54.0       0.9970         3.26          0.65   \n",
       "3         17.0         60.0       0.9980         3.16          0.58   \n",
       "4         11.0         34.0       0.9978         3.51          0.56   \n",
       "\n",
       "   Parameter 11  Signal_Strength  \n",
       "0           9.4                5  \n",
       "1           9.8                5  \n",
       "2           9.8                5  \n",
       "3           9.8                6  \n",
       "4           9.4                5  "
      ]
     },
     "execution_count": 122,
     "metadata": {},
     "output_type": "execute_result"
    }
   ],
   "source": [
    "# read csv file with \";\" as seprators\n",
    "signal_data=pd.read_csv(\"NN Project Data - Signal.csv\")  \n",
    "\n",
    "# Display top 5 rows of the dataset\n",
    "signal_data.head()"
   ]
  },
  {
   "cell_type": "markdown",
   "id": "586b7960",
   "metadata": {},
   "source": [
    "B. Check for missing values and print percentage for each attribute."
   ]
  },
  {
   "cell_type": "code",
   "execution_count": 123,
   "id": "5968a53b",
   "metadata": {},
   "outputs": [
    {
     "name": "stdout",
     "output_type": "stream",
     "text": [
      "Parameter 1        0\n",
      "Parameter 2        0\n",
      "Parameter 3        0\n",
      "Parameter 4        0\n",
      "Parameter 5        0\n",
      "Parameter 6        0\n",
      "Parameter 7        0\n",
      "Parameter 8        0\n",
      "Parameter 9        0\n",
      "Parameter 10       0\n",
      "Parameter 11       0\n",
      "Signal_Strength    0\n",
      "dtype: int64\n"
     ]
    }
   ],
   "source": [
    "# Checking the presence of missing values\n",
    "null_counts = signal_data.isnull().sum()  # This prints the columns with the number of null values they have\n",
    "print (null_counts)"
   ]
  },
  {
   "cell_type": "markdown",
   "id": "9ac90342",
   "metadata": {},
   "source": [
    "There are no null values in the data"
   ]
  },
  {
   "cell_type": "markdown",
   "id": "41d5981d",
   "metadata": {},
   "source": [
    "C. Check for presence of duplicate records in the dataset and impute with appropriate method."
   ]
  },
  {
   "cell_type": "code",
   "execution_count": 124,
   "id": "05b85f71",
   "metadata": {},
   "outputs": [
    {
     "data": {
      "text/plain": [
       "240"
      ]
     },
     "execution_count": 124,
     "metadata": {},
     "output_type": "execute_result"
    }
   ],
   "source": [
    "##Identify duplicates records in the data\n",
    "dupes = signal_data.duplicated()\n",
    "sum(dupes)"
   ]
  },
  {
   "cell_type": "code",
   "execution_count": 125,
   "id": "ceb7eff7",
   "metadata": {},
   "outputs": [],
   "source": [
    "##here we can see that there are 240 duplicated rows. We want to remove the duplicate rows.\n",
    "\n",
    "#Removing Duplicates\n",
    "signal_data =signal_data.drop_duplicates()"
   ]
  },
  {
   "cell_type": "code",
   "execution_count": 126,
   "id": "d1710af5",
   "metadata": {},
   "outputs": [
    {
     "data": {
      "text/plain": [
       "0"
      ]
     },
     "execution_count": 126,
     "metadata": {},
     "output_type": "execute_result"
    }
   ],
   "source": [
    "#Now check the duplicate data again and you will see that there are no duplicate rows.\n",
    "dupes = signal_data.duplicated()\n",
    "sum(dupes)"
   ]
  },
  {
   "cell_type": "markdown",
   "id": "05caa887",
   "metadata": {},
   "source": [
    "D. Visualise distribution of the target variable.\n",
    "E. Share insights from the initial data analysis (at least 2). "
   ]
  },
  {
   "cell_type": "code",
   "execution_count": 127,
   "id": "3fa13c8d",
   "metadata": {},
   "outputs": [
    {
     "data": {
      "text/html": [
       "<div>\n",
       "<style scoped>\n",
       "    .dataframe tbody tr th:only-of-type {\n",
       "        vertical-align: middle;\n",
       "    }\n",
       "\n",
       "    .dataframe tbody tr th {\n",
       "        vertical-align: top;\n",
       "    }\n",
       "\n",
       "    .dataframe thead th {\n",
       "        text-align: right;\n",
       "    }\n",
       "</style>\n",
       "<table border=\"1\" class=\"dataframe\">\n",
       "  <thead>\n",
       "    <tr style=\"text-align: right;\">\n",
       "      <th></th>\n",
       "      <th>Parameter 1</th>\n",
       "      <th>Parameter 2</th>\n",
       "      <th>Parameter 3</th>\n",
       "      <th>Parameter 4</th>\n",
       "      <th>Parameter 5</th>\n",
       "      <th>Parameter 6</th>\n",
       "      <th>Parameter 7</th>\n",
       "      <th>Parameter 8</th>\n",
       "      <th>Parameter 9</th>\n",
       "      <th>Parameter 10</th>\n",
       "      <th>Parameter 11</th>\n",
       "      <th>Signal_Strength</th>\n",
       "    </tr>\n",
       "  </thead>\n",
       "  <tbody>\n",
       "    <tr>\n",
       "      <th>count</th>\n",
       "      <td>1359.000000</td>\n",
       "      <td>1359.000000</td>\n",
       "      <td>1359.000000</td>\n",
       "      <td>1359.000000</td>\n",
       "      <td>1359.000000</td>\n",
       "      <td>1359.000000</td>\n",
       "      <td>1359.000000</td>\n",
       "      <td>1359.000000</td>\n",
       "      <td>1359.000000</td>\n",
       "      <td>1359.000000</td>\n",
       "      <td>1359.000000</td>\n",
       "      <td>1359.000000</td>\n",
       "    </tr>\n",
       "    <tr>\n",
       "      <th>mean</th>\n",
       "      <td>8.310596</td>\n",
       "      <td>0.529478</td>\n",
       "      <td>0.272333</td>\n",
       "      <td>2.523400</td>\n",
       "      <td>0.088124</td>\n",
       "      <td>15.893304</td>\n",
       "      <td>46.825975</td>\n",
       "      <td>0.996709</td>\n",
       "      <td>3.309787</td>\n",
       "      <td>0.658705</td>\n",
       "      <td>10.432315</td>\n",
       "      <td>5.623252</td>\n",
       "    </tr>\n",
       "    <tr>\n",
       "      <th>std</th>\n",
       "      <td>1.736990</td>\n",
       "      <td>0.183031</td>\n",
       "      <td>0.195537</td>\n",
       "      <td>1.352314</td>\n",
       "      <td>0.049377</td>\n",
       "      <td>10.447270</td>\n",
       "      <td>33.408946</td>\n",
       "      <td>0.001869</td>\n",
       "      <td>0.155036</td>\n",
       "      <td>0.170667</td>\n",
       "      <td>1.082065</td>\n",
       "      <td>0.823578</td>\n",
       "    </tr>\n",
       "    <tr>\n",
       "      <th>min</th>\n",
       "      <td>4.600000</td>\n",
       "      <td>0.120000</td>\n",
       "      <td>0.000000</td>\n",
       "      <td>0.900000</td>\n",
       "      <td>0.012000</td>\n",
       "      <td>1.000000</td>\n",
       "      <td>6.000000</td>\n",
       "      <td>0.990070</td>\n",
       "      <td>2.740000</td>\n",
       "      <td>0.330000</td>\n",
       "      <td>8.400000</td>\n",
       "      <td>3.000000</td>\n",
       "    </tr>\n",
       "    <tr>\n",
       "      <th>25%</th>\n",
       "      <td>7.100000</td>\n",
       "      <td>0.390000</td>\n",
       "      <td>0.090000</td>\n",
       "      <td>1.900000</td>\n",
       "      <td>0.070000</td>\n",
       "      <td>7.000000</td>\n",
       "      <td>22.000000</td>\n",
       "      <td>0.995600</td>\n",
       "      <td>3.210000</td>\n",
       "      <td>0.550000</td>\n",
       "      <td>9.500000</td>\n",
       "      <td>5.000000</td>\n",
       "    </tr>\n",
       "    <tr>\n",
       "      <th>50%</th>\n",
       "      <td>7.900000</td>\n",
       "      <td>0.520000</td>\n",
       "      <td>0.260000</td>\n",
       "      <td>2.200000</td>\n",
       "      <td>0.079000</td>\n",
       "      <td>14.000000</td>\n",
       "      <td>38.000000</td>\n",
       "      <td>0.996700</td>\n",
       "      <td>3.310000</td>\n",
       "      <td>0.620000</td>\n",
       "      <td>10.200000</td>\n",
       "      <td>6.000000</td>\n",
       "    </tr>\n",
       "    <tr>\n",
       "      <th>75%</th>\n",
       "      <td>9.200000</td>\n",
       "      <td>0.640000</td>\n",
       "      <td>0.430000</td>\n",
       "      <td>2.600000</td>\n",
       "      <td>0.091000</td>\n",
       "      <td>21.000000</td>\n",
       "      <td>63.000000</td>\n",
       "      <td>0.997820</td>\n",
       "      <td>3.400000</td>\n",
       "      <td>0.730000</td>\n",
       "      <td>11.100000</td>\n",
       "      <td>6.000000</td>\n",
       "    </tr>\n",
       "    <tr>\n",
       "      <th>max</th>\n",
       "      <td>15.900000</td>\n",
       "      <td>1.580000</td>\n",
       "      <td>1.000000</td>\n",
       "      <td>15.500000</td>\n",
       "      <td>0.611000</td>\n",
       "      <td>72.000000</td>\n",
       "      <td>289.000000</td>\n",
       "      <td>1.003690</td>\n",
       "      <td>4.010000</td>\n",
       "      <td>2.000000</td>\n",
       "      <td>14.900000</td>\n",
       "      <td>8.000000</td>\n",
       "    </tr>\n",
       "  </tbody>\n",
       "</table>\n",
       "</div>"
      ],
      "text/plain": [
       "       Parameter 1  Parameter 2  Parameter 3  Parameter 4  Parameter 5  \\\n",
       "count  1359.000000  1359.000000  1359.000000  1359.000000  1359.000000   \n",
       "mean      8.310596     0.529478     0.272333     2.523400     0.088124   \n",
       "std       1.736990     0.183031     0.195537     1.352314     0.049377   \n",
       "min       4.600000     0.120000     0.000000     0.900000     0.012000   \n",
       "25%       7.100000     0.390000     0.090000     1.900000     0.070000   \n",
       "50%       7.900000     0.520000     0.260000     2.200000     0.079000   \n",
       "75%       9.200000     0.640000     0.430000     2.600000     0.091000   \n",
       "max      15.900000     1.580000     1.000000    15.500000     0.611000   \n",
       "\n",
       "       Parameter 6  Parameter 7  Parameter 8  Parameter 9  Parameter 10  \\\n",
       "count  1359.000000  1359.000000  1359.000000  1359.000000   1359.000000   \n",
       "mean     15.893304    46.825975     0.996709     3.309787      0.658705   \n",
       "std      10.447270    33.408946     0.001869     0.155036      0.170667   \n",
       "min       1.000000     6.000000     0.990070     2.740000      0.330000   \n",
       "25%       7.000000    22.000000     0.995600     3.210000      0.550000   \n",
       "50%      14.000000    38.000000     0.996700     3.310000      0.620000   \n",
       "75%      21.000000    63.000000     0.997820     3.400000      0.730000   \n",
       "max      72.000000   289.000000     1.003690     4.010000      2.000000   \n",
       "\n",
       "       Parameter 11  Signal_Strength  \n",
       "count   1359.000000      1359.000000  \n",
       "mean      10.432315         5.623252  \n",
       "std        1.082065         0.823578  \n",
       "min        8.400000         3.000000  \n",
       "25%        9.500000         5.000000  \n",
       "50%       10.200000         6.000000  \n",
       "75%       11.100000         6.000000  \n",
       "max       14.900000         8.000000  "
      ]
     },
     "execution_count": 127,
     "metadata": {},
     "output_type": "execute_result"
    }
   ],
   "source": [
    "# 5 point summary of numerical attributes\n",
    "signal_data.describe()"
   ]
  },
  {
   "cell_type": "code",
   "execution_count": 128,
   "id": "d10e95ea",
   "metadata": {},
   "outputs": [
    {
     "name": "stderr",
     "output_type": "stream",
     "text": [
      "/Users/kabirmishra/opt/anaconda3/lib/python3.8/site-packages/seaborn/distributions.py:2557: FutureWarning: `distplot` is a deprecated function and will be removed in a future version. Please adapt your code to use either `displot` (a figure-level function with similar flexibility) or `histplot` (an axes-level function for histograms).\n",
      "  warnings.warn(msg, FutureWarning)\n"
     ]
    },
    {
     "data": {
      "image/png": "[encoded data removed]",
      "text/plain": [
       "<Figure size 432x288 with 1 Axes>"
      ]
     },
     "metadata": {
      "needs_background": "light"
     },
     "output_type": "display_data"
    },
    {
     "name": "stdout",
     "output_type": "stream",
     "text": [
      "Distribution of  Signal_Strength\n",
      "Mean is: 5.6232523914643116\n",
      "Median is: 6.0\n",
      "Mode is: 0    5\n",
      "dtype: int64\n",
      "Standard deviation is: 0.8235780017165619\n",
      "Skewness is: 0.19240658731658308\n",
      "Maximum is: 8\n",
      "Minimum is: 3\n"
     ]
    }
   ],
   "source": [
    "cols = list(signal_data)\n",
    "sns.distplot(signal_data[cols[11]], color='blue')\n",
    "#plt.xlabel('Experience')\n",
    "plt.show()\n",
    "print('Distribution of ',cols[11])\n",
    "print('Mean is:',signal_data[cols[11]].mean())\n",
    "print('Median is:',signal_data[cols[11]].median())\n",
    "print('Mode is:',signal_data[cols[11]].mode())\n",
    "print('Standard deviation is:',signal_data[cols[11]].std())\n",
    "print('Skewness is:',signal_data[cols[11]].skew())\n",
    "print('Maximum is:',signal_data[cols[11]].max())\n",
    "print('Minimum is:',signal_data[cols[11]].min())"
   ]
  },
  {
   "cell_type": "markdown",
   "id": "0227c867",
   "metadata": {},
   "source": [
    "'Signal_Strength' has classes as - 3.0, 4.0,5.0, 6.0, 7.0 and 8.0"
   ]
  },
  {
   "cell_type": "code",
   "execution_count": 129,
   "id": "c0a62d01",
   "metadata": {},
   "outputs": [
    {
     "name": "stderr",
     "output_type": "stream",
     "text": [
      "/Users/kabirmishra/opt/anaconda3/lib/python3.8/site-packages/seaborn/_decorators.py:36: FutureWarning: Pass the following variable as a keyword arg: x. From version 0.12, the only valid positional argument will be `data`, and passing other arguments without an explicit keyword will result in an error or misinterpretation.\n",
      "  warnings.warn(\n"
     ]
    },
    {
     "data": {
      "image/png": "[encoded data removed]",
      "text/plain": [
       "<Figure size 432x288 with 1 Axes>"
      ]
     },
     "metadata": {
      "needs_background": "light"
     },
     "output_type": "display_data"
    }
   ],
   "source": [
    "sns.countplot(signal_data['Signal_Strength'])    # Distibution of the column 'Signal_Strength'\n",
    "plt.show()"
   ]
  },
  {
   "cell_type": "markdown",
   "id": "e9819c50",
   "metadata": {},
   "source": [
    "class 5.0 in 'Signal_Strength' has the highest count."
   ]
  },
  {
   "cell_type": "markdown",
   "id": "9ba20822",
   "metadata": {},
   "source": [
    "# 2. Data preprocessing"
   ]
  },
  {
   "cell_type": "markdown",
   "id": "d104175a",
   "metadata": {},
   "source": [
    "A. Split the data into X & Y. \n",
    "\n",
    "B. Split the data into train & test with 70:30 proportion.\n",
    "\n",
    "C. Print shape of all the 4 variables and verify if train and test data is in sync. \n",
    "\n",
    "D. Normalise the train and test data with appropriate method.\n",
    "\n",
    "E. Transform Labels into format acceptable by Neural Network"
   ]
  },
  {
   "cell_type": "code",
   "execution_count": 142,
   "id": "31f45c2e",
   "metadata": {},
   "outputs": [],
   "source": [
    "#Seperate independent variables and target variables\n",
    "X = signal_data.drop(\"Signal_Strength\", axis=1)\n",
    "Y = signal_data['Signal_Strength']"
   ]
  },
  {
   "cell_type": "markdown",
   "id": "de6c9390",
   "metadata": {},
   "source": [
    "B. Split the data into train & test with 70:30 proportion."
   ]
  },
  {
   "cell_type": "code",
   "execution_count": 143,
   "id": "dd73e9cf",
   "metadata": {},
   "outputs": [],
   "source": [
    "x_train, x_test, y_train, y_test = train_test_split(X,Y, test_size = 0.30, random_state=7)"
   ]
  },
  {
   "cell_type": "code",
   "execution_count": 144,
   "id": "1d9b0ae2",
   "metadata": {},
   "outputs": [],
   "source": [
    "x_val_train, x_val, y_val_train, y_val = train_test_split(x_train, y_train, test_size=0.20, random_state=7)"
   ]
  },
  {
   "cell_type": "markdown",
   "id": "b6eb03b8",
   "metadata": {},
   "source": [
    "C. Print shape of all the 4 variables and verify if train and test data is in sync."
   ]
  },
  {
   "cell_type": "code",
   "execution_count": 145,
   "id": "4e055f84",
   "metadata": {},
   "outputs": [
    {
     "data": {
      "text/plain": [
       "(951, 11)"
      ]
     },
     "execution_count": 145,
     "metadata": {},
     "output_type": "execute_result"
    }
   ],
   "source": [
    "x_train.shape"
   ]
  },
  {
   "cell_type": "code",
   "execution_count": 146,
   "id": "b2397a7f",
   "metadata": {},
   "outputs": [
    {
     "data": {
      "text/plain": [
       "(951,)"
      ]
     },
     "execution_count": 146,
     "metadata": {},
     "output_type": "execute_result"
    }
   ],
   "source": [
    "y_train.shape"
   ]
  },
  {
   "cell_type": "code",
   "execution_count": 147,
   "id": "f591fcc7",
   "metadata": {},
   "outputs": [
    {
     "data": {
      "text/plain": [
       "(408, 11)"
      ]
     },
     "execution_count": 147,
     "metadata": {},
     "output_type": "execute_result"
    }
   ],
   "source": [
    "x_test.shape"
   ]
  },
  {
   "cell_type": "code",
   "execution_count": 148,
   "id": "f4f68509",
   "metadata": {},
   "outputs": [
    {
     "data": {
      "text/plain": [
       "(408,)"
      ]
     },
     "execution_count": 148,
     "metadata": {},
     "output_type": "execute_result"
    }
   ],
   "source": [
    "y_test.shape"
   ]
  },
  {
   "cell_type": "markdown",
   "id": "273595c1",
   "metadata": {},
   "source": [
    "Looking at the above we can say the train and the test data is in sync."
   ]
  },
  {
   "cell_type": "markdown",
   "id": "d5825a55",
   "metadata": {},
   "source": [
    "D. Normalise the train and test data with appropriate method."
   ]
  },
  {
   "cell_type": "code",
   "execution_count": 149,
   "id": "c721914c",
   "metadata": {},
   "outputs": [],
   "source": [
    "sc=StandardScaler()\n",
    "x_train = sc.fit_transform(x_train)\n",
    "x_val_train = sc.fit_transform(x_val_train)\n",
    "x_val = sc.fit_transform(x_val)\n",
    "x_test = sc.transform(x_test)"
   ]
  },
  {
   "cell_type": "code",
   "execution_count": 150,
   "id": "5a66551d",
   "metadata": {},
   "outputs": [],
   "source": [
    "y_train = np.array(y_train)\n",
    "y_val_train = np.array(y_val_train)\n",
    "y_val = np.array(y_val)\n",
    "y_test = np.array(y_test)"
   ]
  },
  {
   "cell_type": "markdown",
   "id": "d6c0b118",
   "metadata": {},
   "source": [
    "# Question 3: Model Training & Evaluation using Neural Network:"
   ]
  },
  {
   "cell_type": "markdown",
   "id": "d21c788a",
   "metadata": {},
   "source": [
    "A. Design a Neural Network to train a classifier."
   ]
  },
  {
   "cell_type": "code",
   "execution_count": 151,
   "id": "bd54b244",
   "metadata": {},
   "outputs": [
    {
     "name": "stdout",
     "output_type": "stream",
     "text": [
      "Model: \"sequential_4\"\n",
      "_________________________________________________________________\n",
      " Layer (type)                Output Shape              Param #   \n",
      "=================================================================\n",
      " batch_normalization_6 (Batc  (None, 11)               44        \n",
      " hNormalization)                                                 \n",
      "                                                                 \n",
      " dense_9 (Dense)             (None, 1)                 12        \n",
      "                                                                 \n",
      "=================================================================\n",
      "Total params: 56\n",
      "Trainable params: 34\n",
      "Non-trainable params: 22\n",
      "_________________________________________________________________\n"
     ]
    }
   ],
   "source": [
    "classifier = Sequential()\n",
    "classifier.add(BatchNormalization(input_shape=(11,)))\n",
    "classifier.add(Dense(1))\n",
    "sgd = optimizers.SGD(learning_rate = 0.001)\n",
    "classifier.compile(optimizer=sgd, loss='mse',metrics=['accuracy'])\n",
    "classifier.summary()"
   ]
  },
  {
   "cell_type": "markdown",
   "id": "5b3b14ac",
   "metadata": {},
   "source": [
    "B. Train the classifier using previously designed Architecture & C. Plot 2 separate visuals. i. Training Loss and Validation Loss ii. Training Accuracy and Validation Accuracy"
   ]
  },
  {
   "cell_type": "code",
   "execution_count": 152,
   "id": "bf5054d4",
   "metadata": {},
   "outputs": [
    {
     "name": "stdout",
     "output_type": "stream",
     "text": [
      "Epoch 1/100\n",
      "38/38 [==============================] - 1s 6ms/step - loss: 28.2615 - accuracy: 0.0000e+00 - val_loss: 21.9773 - val_accuracy: 0.0000e+00\n",
      "Epoch 2/100\n",
      "38/38 [==============================] - 0s 3ms/step - loss: 18.1881 - accuracy: 0.0000e+00 - val_loss: 13.6612 - val_accuracy: 0.0000e+00\n",
      "Epoch 3/100\n",
      "38/38 [==============================] - 0s 3ms/step - loss: 10.9774 - accuracy: 0.0000e+00 - val_loss: 7.9093 - val_accuracy: 0.0000e+00\n",
      "Epoch 4/100\n",
      "38/38 [==============================] - 0s 4ms/step - loss: 6.3900 - accuracy: 0.0000e+00 - val_loss: 4.5688 - val_accuracy: 0.0000e+00\n",
      "Epoch 5/100\n",
      "38/38 [==============================] - 0s 3ms/step - loss: 3.8637 - accuracy: 0.0000e+00 - val_loss: 2.9579 - val_accuracy: 0.0000e+00\n",
      "Epoch 6/100\n",
      "38/38 [==============================] - 0s 3ms/step - loss: 2.6890 - accuracy: 0.0000e+00 - val_loss: 2.2372 - val_accuracy: 0.0000e+00\n",
      "Epoch 7/100\n",
      "38/38 [==============================] - 0s 3ms/step - loss: 2.0527 - accuracy: 0.0000e+00 - val_loss: 1.8672 - val_accuracy: 0.0000e+00\n",
      "Epoch 8/100\n",
      "38/38 [==============================] - 0s 4ms/step - loss: 1.8446 - accuracy: 0.0000e+00 - val_loss: 1.6460 - val_accuracy: 0.0000e+00\n",
      "Epoch 9/100\n",
      "38/38 [==============================] - 0s 3ms/step - loss: 1.5541 - accuracy: 0.0000e+00 - val_loss: 1.4933 - val_accuracy: 0.0000e+00\n",
      "Epoch 10/100\n",
      "38/38 [==============================] - 0s 3ms/step - loss: 1.4000 - accuracy: 0.0000e+00 - val_loss: 1.3811 - val_accuracy: 0.0000e+00\n",
      "Epoch 11/100\n",
      "38/38 [==============================] - 0s 3ms/step - loss: 1.3328 - accuracy: 0.0000e+00 - val_loss: 1.2872 - val_accuracy: 0.0000e+00\n",
      "Epoch 12/100\n",
      "38/38 [==============================] - 0s 3ms/step - loss: 1.1660 - accuracy: 0.0000e+00 - val_loss: 1.2165 - val_accuracy: 0.0000e+00\n",
      "Epoch 13/100\n",
      "38/38 [==============================] - 0s 3ms/step - loss: 1.1567 - accuracy: 0.0000e+00 - val_loss: 1.1565 - val_accuracy: 0.0000e+00\n",
      "Epoch 14/100\n",
      "38/38 [==============================] - 0s 3ms/step - loss: 1.0637 - accuracy: 0.0000e+00 - val_loss: 1.1059 - val_accuracy: 0.0000e+00\n",
      "Epoch 15/100\n",
      "38/38 [==============================] - 0s 3ms/step - loss: 1.0694 - accuracy: 0.0000e+00 - val_loss: 1.0576 - val_accuracy: 0.0000e+00\n",
      "Epoch 16/100\n",
      "38/38 [==============================] - 0s 4ms/step - loss: 1.0165 - accuracy: 0.0000e+00 - val_loss: 1.0173 - val_accuracy: 0.0000e+00\n",
      "Epoch 17/100\n",
      "38/38 [==============================] - 0s 3ms/step - loss: 0.9550 - accuracy: 0.0000e+00 - val_loss: 0.9839 - val_accuracy: 0.0000e+00\n",
      "Epoch 18/100\n",
      "38/38 [==============================] - 0s 3ms/step - loss: 0.9277 - accuracy: 0.0000e+00 - val_loss: 0.9492 - val_accuracy: 0.0000e+00\n",
      "Epoch 19/100\n",
      "38/38 [==============================] - 0s 3ms/step - loss: 0.8717 - accuracy: 0.0000e+00 - val_loss: 0.9190 - val_accuracy: 0.0000e+00\n",
      "Epoch 20/100\n",
      "38/38 [==============================] - 0s 3ms/step - loss: 0.9079 - accuracy: 0.0000e+00 - val_loss: 0.8913 - val_accuracy: 0.0000e+00\n",
      "Epoch 21/100\n",
      "38/38 [==============================] - 0s 3ms/step - loss: 0.8365 - accuracy: 0.0000e+00 - val_loss: 0.8653 - val_accuracy: 0.0000e+00\n",
      "Epoch 22/100\n",
      "38/38 [==============================] - 0s 3ms/step - loss: 0.8084 - accuracy: 0.0000e+00 - val_loss: 0.8463 - val_accuracy: 0.0000e+00\n",
      "Epoch 23/100\n",
      "38/38 [==============================] - 0s 5ms/step - loss: 0.7967 - accuracy: 0.0000e+00 - val_loss: 0.8241 - val_accuracy: 0.0000e+00\n",
      "Epoch 24/100\n",
      "38/38 [==============================] - 0s 4ms/step - loss: 0.7465 - accuracy: 0.0000e+00 - val_loss: 0.8040 - val_accuracy: 0.0000e+00\n",
      "Epoch 25/100\n",
      "38/38 [==============================] - 0s 4ms/step - loss: 0.7686 - accuracy: 0.0000e+00 - val_loss: 0.7844 - val_accuracy: 0.0000e+00\n",
      "Epoch 26/100\n",
      "38/38 [==============================] - 0s 3ms/step - loss: 0.7138 - accuracy: 0.0000e+00 - val_loss: 0.7671 - val_accuracy: 0.0000e+00\n",
      "Epoch 27/100\n",
      "38/38 [==============================] - 0s 3ms/step - loss: 0.7152 - accuracy: 0.0000e+00 - val_loss: 0.7534 - val_accuracy: 0.0000e+00\n",
      "Epoch 28/100\n",
      "38/38 [==============================] - 0s 4ms/step - loss: 0.6981 - accuracy: 0.0000e+00 - val_loss: 0.7392 - val_accuracy: 0.0000e+00\n",
      "Epoch 29/100\n",
      "38/38 [==============================] - 0s 4ms/step - loss: 0.6933 - accuracy: 0.0000e+00 - val_loss: 0.7256 - val_accuracy: 0.0000e+00\n",
      "Epoch 30/100\n",
      "38/38 [==============================] - 0s 4ms/step - loss: 0.6938 - accuracy: 0.0000e+00 - val_loss: 0.7112 - val_accuracy: 0.0000e+00\n",
      "Epoch 31/100\n",
      "38/38 [==============================] - 0s 4ms/step - loss: 0.6465 - accuracy: 0.0000e+00 - val_loss: 0.6993 - val_accuracy: 0.0000e+00\n",
      "Epoch 32/100\n",
      "38/38 [==============================] - 0s 3ms/step - loss: 0.6381 - accuracy: 0.0000e+00 - val_loss: 0.6894 - val_accuracy: 0.0000e+00\n",
      "Epoch 33/100\n",
      "38/38 [==============================] - 0s 4ms/step - loss: 0.6391 - accuracy: 0.0000e+00 - val_loss: 0.6771 - val_accuracy: 0.0000e+00\n",
      "Epoch 34/100\n",
      "38/38 [==============================] - 0s 4ms/step - loss: 0.6382 - accuracy: 0.0000e+00 - val_loss: 0.6671 - val_accuracy: 0.0000e+00\n",
      "Epoch 35/100\n",
      "38/38 [==============================] - 0s 4ms/step - loss: 0.6199 - accuracy: 0.0000e+00 - val_loss: 0.6580 - val_accuracy: 0.0000e+00\n",
      "Epoch 36/100\n",
      "38/38 [==============================] - 0s 3ms/step - loss: 0.6005 - accuracy: 0.0000e+00 - val_loss: 0.6495 - val_accuracy: 0.0000e+00\n",
      "Epoch 37/100\n",
      "38/38 [==============================] - 0s 6ms/step - loss: 0.5964 - accuracy: 0.0000e+00 - val_loss: 0.6423 - val_accuracy: 0.0000e+00\n",
      "Epoch 38/100\n",
      "38/38 [==============================] - 0s 4ms/step - loss: 0.5816 - accuracy: 0.0000e+00 - val_loss: 0.6341 - val_accuracy: 0.0000e+00\n",
      "Epoch 39/100\n",
      "38/38 [==============================] - 0s 3ms/step - loss: 0.5838 - accuracy: 0.0000e+00 - val_loss: 0.6260 - val_accuracy: 0.0000e+00\n",
      "Epoch 40/100\n",
      "38/38 [==============================] - 0s 3ms/step - loss: 0.5834 - accuracy: 0.0000e+00 - val_loss: 0.6216 - val_accuracy: 0.0000e+00\n",
      "Epoch 41/100\n",
      "38/38 [==============================] - 0s 4ms/step - loss: 0.5779 - accuracy: 0.0000e+00 - val_loss: 0.6136 - val_accuracy: 0.0000e+00\n",
      "Epoch 42/100\n",
      "38/38 [==============================] - 0s 3ms/step - loss: 0.5541 - accuracy: 0.0000e+00 - val_loss: 0.6084 - val_accuracy: 0.0000e+00\n",
      "Epoch 43/100\n",
      "38/38 [==============================] - 0s 3ms/step - loss: 0.5572 - accuracy: 0.0000e+00 - val_loss: 0.6023 - val_accuracy: 0.0000e+00\n",
      "Epoch 44/100\n",
      "38/38 [==============================] - 0s 3ms/step - loss: 0.5703 - accuracy: 0.0000e+00 - val_loss: 0.5966 - val_accuracy: 0.0000e+00\n",
      "Epoch 45/100\n",
      "38/38 [==============================] - 0s 3ms/step - loss: 0.5548 - accuracy: 0.0000e+00 - val_loss: 0.5913 - val_accuracy: 0.0000e+00\n",
      "Epoch 46/100\n",
      "38/38 [==============================] - 0s 3ms/step - loss: 0.5517 - accuracy: 0.0000e+00 - val_loss: 0.5875 - val_accuracy: 0.0000e+00\n",
      "Epoch 47/100\n",
      "38/38 [==============================] - 0s 3ms/step - loss: 0.5503 - accuracy: 0.0000e+00 - val_loss: 0.5833 - val_accuracy: 0.0000e+00\n",
      "Epoch 48/100\n",
      "38/38 [==============================] - 0s 4ms/step - loss: 0.5497 - accuracy: 0.0000e+00 - val_loss: 0.5783 - val_accuracy: 0.0000e+00\n",
      "Epoch 49/100\n",
      "38/38 [==============================] - 0s 3ms/step - loss: 0.5387 - accuracy: 0.0000e+00 - val_loss: 0.5724 - val_accuracy: 0.0000e+00\n",
      "Epoch 50/100\n",
      "38/38 [==============================] - 0s 3ms/step - loss: 0.5302 - accuracy: 0.0000e+00 - val_loss: 0.5679 - val_accuracy: 0.0000e+00\n",
      "Epoch 51/100\n",
      "38/38 [==============================] - 0s 3ms/step - loss: 0.5321 - accuracy: 0.0000e+00 - val_loss: 0.5653 - val_accuracy: 0.0000e+00\n",
      "Epoch 52/100\n",
      "38/38 [==============================] - 0s 3ms/step - loss: 0.5124 - accuracy: 0.0000e+00 - val_loss: 0.5604 - val_accuracy: 0.0000e+00\n",
      "Epoch 53/100\n",
      "38/38 [==============================] - 0s 3ms/step - loss: 0.5231 - accuracy: 0.0000e+00 - val_loss: 0.5568 - val_accuracy: 0.0000e+00\n",
      "Epoch 54/100\n",
      "38/38 [==============================] - 0s 3ms/step - loss: 0.5360 - accuracy: 0.0000e+00 - val_loss: 0.5526 - val_accuracy: 0.0000e+00\n",
      "Epoch 55/100\n",
      "38/38 [==============================] - 0s 3ms/step - loss: 0.5102 - accuracy: 0.0000e+00 - val_loss: 0.5484 - val_accuracy: 0.0000e+00\n",
      "Epoch 56/100\n",
      "38/38 [==============================] - 0s 3ms/step - loss: 0.5117 - accuracy: 0.0000e+00 - val_loss: 0.5460 - val_accuracy: 0.0000e+00\n",
      "Epoch 57/100\n",
      "38/38 [==============================] - 0s 4ms/step - loss: 0.5338 - accuracy: 0.0000e+00 - val_loss: 0.5420 - val_accuracy: 0.0000e+00\n",
      "Epoch 58/100\n",
      "38/38 [==============================] - 0s 3ms/step - loss: 0.5246 - accuracy: 0.0000e+00 - val_loss: 0.5397 - val_accuracy: 0.0000e+00\n",
      "Epoch 59/100\n",
      "38/38 [==============================] - 0s 3ms/step - loss: 0.5144 - accuracy: 0.0000e+00 - val_loss: 0.5370 - val_accuracy: 0.0000e+00\n",
      "Epoch 60/100\n",
      "38/38 [==============================] - 0s 3ms/step - loss: 0.4976 - accuracy: 0.0000e+00 - val_loss: 0.5345 - val_accuracy: 0.0000e+00\n",
      "Epoch 61/100\n",
      "38/38 [==============================] - 0s 3ms/step - loss: 0.5092 - accuracy: 0.0000e+00 - val_loss: 0.5311 - val_accuracy: 0.0000e+00\n",
      "Epoch 62/100\n",
      "38/38 [==============================] - 0s 3ms/step - loss: 0.5141 - accuracy: 0.0000e+00 - val_loss: 0.5273 - val_accuracy: 0.0000e+00\n",
      "Epoch 63/100\n",
      "38/38 [==============================] - 0s 3ms/step - loss: 0.5152 - accuracy: 0.0000e+00 - val_loss: 0.5246 - val_accuracy: 0.0000e+00\n",
      "Epoch 64/100\n",
      "38/38 [==============================] - 0s 2ms/step - loss: 0.5012 - accuracy: 0.0000e+00 - val_loss: 0.5219 - val_accuracy: 0.0000e+00\n",
      "Epoch 65/100\n",
      "38/38 [==============================] - 0s 3ms/step - loss: 0.5123 - accuracy: 0.0000e+00 - val_loss: 0.5205 - val_accuracy: 0.0000e+00\n",
      "Epoch 66/100\n",
      "38/38 [==============================] - 0s 3ms/step - loss: 0.5024 - accuracy: 0.0000e+00 - val_loss: 0.5194 - val_accuracy: 0.0000e+00\n",
      "Epoch 67/100\n",
      "38/38 [==============================] - 0s 3ms/step - loss: 0.5000 - accuracy: 0.0000e+00 - val_loss: 0.5165 - val_accuracy: 0.0000e+00\n",
      "Epoch 68/100\n",
      "38/38 [==============================] - 0s 3ms/step - loss: 0.5020 - accuracy: 0.0000e+00 - val_loss: 0.5148 - val_accuracy: 0.0000e+00\n",
      "Epoch 69/100\n",
      "38/38 [==============================] - 0s 4ms/step - loss: 0.4930 - accuracy: 0.0000e+00 - val_loss: 0.5124 - val_accuracy: 0.0000e+00\n",
      "Epoch 70/100\n",
      "38/38 [==============================] - 0s 5ms/step - loss: 0.4957 - accuracy: 0.0000e+00 - val_loss: 0.5108 - val_accuracy: 0.0000e+00\n",
      "Epoch 71/100\n",
      "38/38 [==============================] - 0s 3ms/step - loss: 0.4907 - accuracy: 0.0000e+00 - val_loss: 0.5089 - val_accuracy: 0.0000e+00\n",
      "Epoch 72/100\n",
      "38/38 [==============================] - 0s 3ms/step - loss: 0.4897 - accuracy: 0.0000e+00 - val_loss: 0.5080 - val_accuracy: 0.0000e+00\n",
      "Epoch 73/100\n",
      "38/38 [==============================] - 0s 3ms/step - loss: 0.4906 - accuracy: 0.0000e+00 - val_loss: 0.5053 - val_accuracy: 0.0000e+00\n",
      "Epoch 74/100\n",
      "38/38 [==============================] - 0s 3ms/step - loss: 0.4840 - accuracy: 0.0000e+00 - val_loss: 0.5031 - val_accuracy: 0.0000e+00\n",
      "Epoch 75/100\n",
      "38/38 [==============================] - 0s 3ms/step - loss: 0.4918 - accuracy: 0.0000e+00 - val_loss: 0.5015 - val_accuracy: 0.0000e+00\n",
      "Epoch 76/100\n",
      "38/38 [==============================] - 0s 3ms/step - loss: 0.4915 - accuracy: 0.0000e+00 - val_loss: 0.5010 - val_accuracy: 0.0000e+00\n",
      "Epoch 77/100\n",
      "38/38 [==============================] - 0s 2ms/step - loss: 0.4711 - accuracy: 0.0000e+00 - val_loss: 0.5006 - val_accuracy: 0.0000e+00\n",
      "Epoch 78/100\n",
      "38/38 [==============================] - 0s 2ms/step - loss: 0.4939 - accuracy: 0.0000e+00 - val_loss: 0.4982 - val_accuracy: 0.0000e+00\n",
      "Epoch 79/100\n",
      "38/38 [==============================] - 0s 3ms/step - loss: 0.4956 - accuracy: 0.0000e+00 - val_loss: 0.4956 - val_accuracy: 0.0000e+00\n",
      "Epoch 80/100\n",
      "38/38 [==============================] - 0s 3ms/step - loss: 0.4748 - accuracy: 0.0000e+00 - val_loss: 0.4937 - val_accuracy: 0.0000e+00\n",
      "Epoch 81/100\n",
      "38/38 [==============================] - 0s 5ms/step - loss: 0.4933 - accuracy: 0.0000e+00 - val_loss: 0.4919 - val_accuracy: 0.0000e+00\n",
      "Epoch 82/100\n",
      "38/38 [==============================] - 0s 4ms/step - loss: 0.4888 - accuracy: 0.0000e+00 - val_loss: 0.4911 - val_accuracy: 0.0000e+00\n",
      "Epoch 83/100\n",
      "38/38 [==============================] - 0s 3ms/step - loss: 0.4890 - accuracy: 0.0000e+00 - val_loss: 0.4901 - val_accuracy: 0.0000e+00\n",
      "Epoch 84/100\n",
      "38/38 [==============================] - 0s 3ms/step - loss: 0.4810 - accuracy: 0.0000e+00 - val_loss: 0.4894 - val_accuracy: 0.0000e+00\n",
      "Epoch 85/100\n",
      "38/38 [==============================] - 0s 3ms/step - loss: 0.4677 - accuracy: 0.0000e+00 - val_loss: 0.4879 - val_accuracy: 0.0000e+00\n",
      "Epoch 86/100\n",
      "38/38 [==============================] - 0s 3ms/step - loss: 0.4902 - accuracy: 0.0000e+00 - val_loss: 0.4867 - val_accuracy: 0.0000e+00\n",
      "Epoch 87/100\n",
      "38/38 [==============================] - 0s 5ms/step - loss: 0.4817 - accuracy: 0.0000e+00 - val_loss: 0.4863 - val_accuracy: 0.0000e+00\n",
      "Epoch 88/100\n",
      "38/38 [==============================] - 0s 4ms/step - loss: 0.4820 - accuracy: 0.0000e+00 - val_loss: 0.4847 - val_accuracy: 0.0000e+00\n",
      "Epoch 89/100\n",
      "38/38 [==============================] - 0s 3ms/step - loss: 0.4723 - accuracy: 0.0000e+00 - val_loss: 0.4846 - val_accuracy: 0.0000e+00\n",
      "Epoch 90/100\n",
      "38/38 [==============================] - 0s 3ms/step - loss: 0.4670 - accuracy: 0.0000e+00 - val_loss: 0.4830 - val_accuracy: 0.0000e+00\n",
      "Epoch 91/100\n",
      "38/38 [==============================] - 0s 4ms/step - loss: 0.4831 - accuracy: 0.0000e+00 - val_loss: 0.4815 - val_accuracy: 0.0000e+00\n",
      "Epoch 92/100\n",
      "38/38 [==============================] - 0s 3ms/step - loss: 0.4618 - accuracy: 0.0000e+00 - val_loss: 0.4813 - val_accuracy: 0.0000e+00\n",
      "Epoch 93/100\n",
      "38/38 [==============================] - 0s 4ms/step - loss: 0.4607 - accuracy: 0.0000e+00 - val_loss: 0.4800 - val_accuracy: 0.0000e+00\n",
      "Epoch 94/100\n",
      "38/38 [==============================] - 0s 5ms/step - loss: 0.4809 - accuracy: 0.0000e+00 - val_loss: 0.4784 - val_accuracy: 0.0000e+00\n",
      "Epoch 95/100\n",
      "38/38 [==============================] - 0s 3ms/step - loss: 0.4749 - accuracy: 0.0000e+00 - val_loss: 0.4777 - val_accuracy: 0.0000e+00\n",
      "Epoch 96/100\n",
      "38/38 [==============================] - 0s 4ms/step - loss: 0.4850 - accuracy: 0.0000e+00 - val_loss: 0.4760 - val_accuracy: 0.0000e+00\n",
      "Epoch 97/100\n",
      "38/38 [==============================] - 0s 4ms/step - loss: 0.4689 - accuracy: 0.0000e+00 - val_loss: 0.4755 - val_accuracy: 0.0000e+00\n",
      "Epoch 98/100\n",
      "38/38 [==============================] - 0s 4ms/step - loss: 0.4802 - accuracy: 0.0000e+00 - val_loss: 0.4742 - val_accuracy: 0.0000e+00\n",
      "Epoch 99/100\n",
      "38/38 [==============================] - 0s 4ms/step - loss: 0.4853 - accuracy: 0.0000e+00 - val_loss: 0.4725 - val_accuracy: 0.0000e+00\n",
      "Epoch 100/100\n",
      "38/38 [==============================] - 0s 3ms/step - loss: 0.4699 - accuracy: 0.0000e+00 - val_loss: 0.4716 - val_accuracy: 0.0000e+00\n"
     ]
    }
   ],
   "source": [
    "model = classifier.fit(x=x_val_train, y=y_val_train, batch_size=20, epochs=100, validation_data=(x_val, y_val))"
   ]
  },
  {
   "cell_type": "code",
   "execution_count": 153,
   "id": "a6b0ac9b",
   "metadata": {},
   "outputs": [
    {
     "name": "stdout",
     "output_type": "stream",
     "text": [
      "24/24 [==============================] - 0s 2ms/step - loss: 0.4518 - accuracy: 0.0000e+00\n"
     ]
    },
    {
     "data": {
      "text/plain": [
       "[0.451839804649353, 0.0]"
      ]
     },
     "execution_count": 153,
     "metadata": {},
     "output_type": "execute_result"
    }
   ],
   "source": [
    "score = classifier.evaluate(x_val_train,y_val_train)\n",
    "score"
   ]
  },
  {
   "cell_type": "code",
   "execution_count": 154,
   "id": "79e67202",
   "metadata": {},
   "outputs": [
    {
     "name": "stdout",
     "output_type": "stream",
     "text": [
      "13/13 [==============================] - 0s 2ms/step - loss: 0.4566 - accuracy: 0.0000e+00\n"
     ]
    },
    {
     "data": {
      "text/plain": [
       "[0.4565701186656952, 0.0]"
      ]
     },
     "execution_count": 154,
     "metadata": {},
     "output_type": "execute_result"
    }
   ],
   "source": [
    "score_t = classifier.evaluate(x_test,y_test)\n",
    "score_t"
   ]
  },
  {
   "cell_type": "code",
   "execution_count": 155,
   "id": "4cdd8670",
   "metadata": {},
   "outputs": [
    {
     "data": {
      "image/png": "[encoded data removed]",
      "text/plain": [
       "<Figure size 432x288 with 1 Axes>"
      ]
     },
     "metadata": {
      "needs_background": "light"
     },
     "output_type": "display_data"
    }
   ],
   "source": [
    "plt.plot(model.history['accuracy'])\n",
    "plt.plot(model.history['val_accuracy'])\n",
    "plt.title('model accuracy')\n",
    "plt.ylabel('accuracy')\n",
    "plt.xlabel('epoch')\n",
    "plt.legend(['train','validation'],loc='upper left')\n",
    "plt.show()"
   ]
  },
  {
   "cell_type": "code",
   "execution_count": 156,
   "id": "5adc3f80",
   "metadata": {},
   "outputs": [
    {
     "data": {
      "image/png": "[encoded data removed]",
      "text/plain": [
       "<Figure size 432x288 with 1 Axes>"
      ]
     },
     "metadata": {
      "needs_background": "light"
     },
     "output_type": "display_data"
    }
   ],
   "source": [
    "plt.plot(model.history['loss'])\n",
    "plt.plot(model.history['val_loss'])\n",
    "plt.title('model loss')\n",
    "plt.ylabel('loss')\n",
    "plt.xlabel('epoch')\n",
    "plt.legend(['train','validation'],loc='upper left')\n",
    "plt.show()"
   ]
  },
  {
   "cell_type": "markdown",
   "id": "45b5edb8",
   "metadata": {},
   "source": [
    "# Question 2:"
   ]
  },
  {
   "cell_type": "markdown",
   "id": "fb4e87f4",
   "metadata": {},
   "source": [
    "E. Transform Labels into format acceptable by Neural Network."
   ]
  },
  {
   "cell_type": "code",
   "execution_count": 157,
   "id": "3841b6cc",
   "metadata": {},
   "outputs": [],
   "source": [
    "yc = to_categorical(Y)"
   ]
  },
  {
   "cell_type": "markdown",
   "id": "8431ca7a",
   "metadata": {},
   "source": [
    "D. Design new architecture/update existing architecture in attempt to improve the performance of the model."
   ]
  },
  {
   "cell_type": "code",
   "execution_count": 158,
   "id": "9aac84ed",
   "metadata": {},
   "outputs": [],
   "source": [
    "x_cat_train, x_cat_test, y_cat_train, y_cat_test = train_test_split(X, yc, test_size=.30, random_state=7)"
   ]
  },
  {
   "cell_type": "code",
   "execution_count": 159,
   "id": "5c377033",
   "metadata": {},
   "outputs": [],
   "source": [
    "x_cval_train, x_cval, y_cval_train, y_cval = train_test_split(x_cat_train, y_cat_train, test_size=.20, random_state=7)"
   ]
  },
  {
   "cell_type": "code",
   "execution_count": 160,
   "id": "a0cbecff",
   "metadata": {},
   "outputs": [],
   "source": [
    "classifier_opt = Sequential()\n",
    "classifier_opt.add(Dense(activation = 'relu', input_dim = 11, units=6, kernel_initializer='random_normal'))\n",
    "classifier_opt.add(Dense(activation = 'relu', units=6, kernel_initializer='random_normal')) \n",
    "classifier_opt.add(Dense(activation = 'softmax', units=9, kernel_initializer='random_normal'))\n",
    "opt = optimizers.Adam(learning_rate = 0.01)\n",
    "classifier_opt.compile(optimizer=opt, loss = 'categorical_crossentropy', metrics=['accuracy'])"
   ]
  },
  {
   "cell_type": "code",
   "execution_count": 161,
   "id": "2f63b015",
   "metadata": {},
   "outputs": [
    {
     "name": "stdout",
     "output_type": "stream",
     "text": [
      "Epoch 1/100\n",
      "24/24 [==============================] - 1s 10ms/step - loss: 1.6334 - accuracy: 0.3947 - val_loss: 1.2526 - val_accuracy: 0.3560\n",
      "Epoch 2/100\n",
      "24/24 [==============================] - 0s 4ms/step - loss: 1.2732 - accuracy: 0.3974 - val_loss: 1.2212 - val_accuracy: 0.4398\n",
      "Epoch 3/100\n",
      "24/24 [==============================] - 0s 3ms/step - loss: 1.2376 - accuracy: 0.3921 - val_loss: 1.2010 - val_accuracy: 0.4398\n",
      "Epoch 4/100\n",
      "24/24 [==============================] - 0s 4ms/step - loss: 1.2210 - accuracy: 0.4382 - val_loss: 1.1902 - val_accuracy: 0.4398\n",
      "Epoch 5/100\n",
      "24/24 [==============================] - 0s 5ms/step - loss: 1.2213 - accuracy: 0.4355 - val_loss: 1.1992 - val_accuracy: 0.4503\n",
      "Epoch 6/100\n",
      "24/24 [==============================] - 0s 4ms/step - loss: 1.2183 - accuracy: 0.4842 - val_loss: 1.1877 - val_accuracy: 0.4398\n",
      "Epoch 7/100\n",
      "24/24 [==============================] - 0s 4ms/step - loss: 1.2107 - accuracy: 0.4829 - val_loss: 1.1928 - val_accuracy: 0.4660\n",
      "Epoch 8/100\n",
      "24/24 [==============================] - 0s 4ms/step - loss: 1.2022 - accuracy: 0.4803 - val_loss: 1.1914 - val_accuracy: 0.4346\n",
      "Epoch 9/100\n",
      "24/24 [==============================] - 0s 3ms/step - loss: 1.1880 - accuracy: 0.4908 - val_loss: 1.1925 - val_accuracy: 0.4660\n",
      "Epoch 10/100\n",
      "24/24 [==============================] - 0s 4ms/step - loss: 1.1720 - accuracy: 0.5000 - val_loss: 1.1944 - val_accuracy: 0.4712\n",
      "Epoch 11/100\n",
      "24/24 [==============================] - 0s 4ms/step - loss: 1.1666 - accuracy: 0.5171 - val_loss: 1.2148 - val_accuracy: 0.4346\n",
      "Epoch 12/100\n",
      "24/24 [==============================] - 0s 3ms/step - loss: 1.1611 - accuracy: 0.5092 - val_loss: 1.1923 - val_accuracy: 0.4607\n",
      "Epoch 13/100\n",
      "24/24 [==============================] - 0s 4ms/step - loss: 1.1623 - accuracy: 0.5211 - val_loss: 1.2030 - val_accuracy: 0.4607\n",
      "Epoch 14/100\n",
      "24/24 [==============================] - 0s 6ms/step - loss: 1.1666 - accuracy: 0.5276 - val_loss: 1.2003 - val_accuracy: 0.4712\n",
      "Epoch 15/100\n",
      "24/24 [==============================] - 0s 4ms/step - loss: 1.1424 - accuracy: 0.5224 - val_loss: 1.1884 - val_accuracy: 0.4555\n",
      "Epoch 16/100\n",
      "24/24 [==============================] - 0s 4ms/step - loss: 1.1335 - accuracy: 0.5197 - val_loss: 1.2054 - val_accuracy: 0.4660\n",
      "Epoch 17/100\n",
      "24/24 [==============================] - 0s 3ms/step - loss: 1.1407 - accuracy: 0.5171 - val_loss: 1.1985 - val_accuracy: 0.4503\n",
      "Epoch 18/100\n",
      "24/24 [==============================] - 0s 4ms/step - loss: 1.1417 - accuracy: 0.5329 - val_loss: 1.1805 - val_accuracy: 0.4555\n",
      "Epoch 19/100\n",
      "24/24 [==============================] - 0s 5ms/step - loss: 1.1216 - accuracy: 0.5408 - val_loss: 1.1792 - val_accuracy: 0.4503\n",
      "Epoch 20/100\n",
      "24/24 [==============================] - 0s 4ms/step - loss: 1.1128 - accuracy: 0.5408 - val_loss: 1.1716 - val_accuracy: 0.4503\n",
      "Epoch 21/100\n",
      "24/24 [==============================] - 0s 3ms/step - loss: 1.1099 - accuracy: 0.5368 - val_loss: 1.1575 - val_accuracy: 0.4764\n",
      "Epoch 22/100\n",
      "24/24 [==============================] - 0s 4ms/step - loss: 1.1144 - accuracy: 0.5145 - val_loss: 1.1405 - val_accuracy: 0.5026\n",
      "Epoch 23/100\n",
      "24/24 [==============================] - 0s 3ms/step - loss: 1.1085 - accuracy: 0.5382 - val_loss: 1.1722 - val_accuracy: 0.4503\n",
      "Epoch 24/100\n",
      "24/24 [==============================] - 0s 4ms/step - loss: 1.1313 - accuracy: 0.5276 - val_loss: 1.1615 - val_accuracy: 0.4398\n",
      "Epoch 25/100\n",
      "24/24 [==============================] - 0s 3ms/step - loss: 1.1136 - accuracy: 0.5342 - val_loss: 1.1343 - val_accuracy: 0.4869\n",
      "Epoch 26/100\n",
      "24/24 [==============================] - 0s 4ms/step - loss: 1.0713 - accuracy: 0.5421 - val_loss: 1.1100 - val_accuracy: 0.4555\n",
      "Epoch 27/100\n",
      "24/24 [==============================] - 0s 3ms/step - loss: 1.0660 - accuracy: 0.5513 - val_loss: 1.1051 - val_accuracy: 0.4712\n",
      "Epoch 28/100\n",
      "24/24 [==============================] - 0s 4ms/step - loss: 1.0577 - accuracy: 0.5684 - val_loss: 1.1366 - val_accuracy: 0.4555\n",
      "Epoch 29/100\n",
      "24/24 [==============================] - 0s 4ms/step - loss: 1.0688 - accuracy: 0.5684 - val_loss: 1.0994 - val_accuracy: 0.4712\n",
      "Epoch 30/100\n",
      "24/24 [==============================] - 0s 4ms/step - loss: 1.0709 - accuracy: 0.5513 - val_loss: 1.1047 - val_accuracy: 0.4398\n",
      "Epoch 31/100\n",
      "24/24 [==============================] - 0s 4ms/step - loss: 1.0508 - accuracy: 0.5526 - val_loss: 1.0809 - val_accuracy: 0.5026\n",
      "Epoch 32/100\n",
      "24/24 [==============================] - 0s 4ms/step - loss: 1.0313 - accuracy: 0.5592 - val_loss: 1.0746 - val_accuracy: 0.4869\n",
      "Epoch 33/100\n",
      "24/24 [==============================] - 0s 3ms/step - loss: 1.0320 - accuracy: 0.5592 - val_loss: 1.0576 - val_accuracy: 0.5183\n",
      "Epoch 34/100\n",
      "24/24 [==============================] - 0s 5ms/step - loss: 1.0308 - accuracy: 0.5632 - val_loss: 1.0789 - val_accuracy: 0.5236\n",
      "Epoch 35/100\n",
      "24/24 [==============================] - 0s 4ms/step - loss: 1.0414 - accuracy: 0.5447 - val_loss: 1.0728 - val_accuracy: 0.4712\n",
      "Epoch 36/100\n",
      "24/24 [==============================] - 0s 4ms/step - loss: 1.0507 - accuracy: 0.5711 - val_loss: 1.0708 - val_accuracy: 0.4869\n",
      "Epoch 37/100\n",
      "24/24 [==============================] - 0s 3ms/step - loss: 1.0409 - accuracy: 0.5632 - val_loss: 1.0519 - val_accuracy: 0.5183\n",
      "Epoch 38/100\n",
      "24/24 [==============================] - 0s 4ms/step - loss: 1.0375 - accuracy: 0.5461 - val_loss: 1.0610 - val_accuracy: 0.4869\n",
      "Epoch 39/100\n",
      "24/24 [==============================] - 0s 3ms/step - loss: 1.0204 - accuracy: 0.5632 - val_loss: 1.0542 - val_accuracy: 0.4921\n",
      "Epoch 40/100\n",
      "24/24 [==============================] - 0s 3ms/step - loss: 1.0183 - accuracy: 0.5605 - val_loss: 1.0504 - val_accuracy: 0.4974\n",
      "Epoch 41/100\n",
      "24/24 [==============================] - 0s 4ms/step - loss: 1.0251 - accuracy: 0.5645 - val_loss: 1.0928 - val_accuracy: 0.5288\n",
      "Epoch 42/100\n",
      "24/24 [==============================] - 0s 3ms/step - loss: 1.0100 - accuracy: 0.5539 - val_loss: 1.0642 - val_accuracy: 0.5340\n",
      "Epoch 43/100\n",
      "24/24 [==============================] - 0s 3ms/step - loss: 1.0294 - accuracy: 0.5526 - val_loss: 1.1519 - val_accuracy: 0.5131\n",
      "Epoch 44/100\n",
      "24/24 [==============================] - 0s 3ms/step - loss: 1.0235 - accuracy: 0.5618 - val_loss: 1.0838 - val_accuracy: 0.4764\n",
      "Epoch 45/100\n",
      "24/24 [==============================] - 0s 3ms/step - loss: 1.0035 - accuracy: 0.5658 - val_loss: 1.0385 - val_accuracy: 0.5026\n",
      "Epoch 46/100\n",
      "24/24 [==============================] - 0s 3ms/step - loss: 1.0108 - accuracy: 0.5697 - val_loss: 1.0325 - val_accuracy: 0.5393\n",
      "Epoch 47/100\n",
      "24/24 [==============================] - 0s 3ms/step - loss: 1.0158 - accuracy: 0.5355 - val_loss: 1.0335 - val_accuracy: 0.4974\n",
      "Epoch 48/100\n",
      "24/24 [==============================] - 0s 4ms/step - loss: 0.9971 - accuracy: 0.5763 - val_loss: 1.0251 - val_accuracy: 0.5497\n",
      "Epoch 49/100\n",
      "24/24 [==============================] - 0s 3ms/step - loss: 1.0007 - accuracy: 0.5724 - val_loss: 1.0139 - val_accuracy: 0.5654\n",
      "Epoch 50/100\n",
      "24/24 [==============================] - 0s 4ms/step - loss: 0.9887 - accuracy: 0.5711 - val_loss: 1.0249 - val_accuracy: 0.5550\n",
      "Epoch 51/100\n",
      "24/24 [==============================] - 0s 3ms/step - loss: 0.9994 - accuracy: 0.5658 - val_loss: 1.0405 - val_accuracy: 0.5393\n",
      "Epoch 52/100\n",
      "24/24 [==============================] - 0s 3ms/step - loss: 1.0268 - accuracy: 0.5645 - val_loss: 1.0815 - val_accuracy: 0.5288\n",
      "Epoch 53/100\n",
      "24/24 [==============================] - 0s 4ms/step - loss: 0.9888 - accuracy: 0.5789 - val_loss: 1.0178 - val_accuracy: 0.5654\n",
      "Epoch 54/100\n",
      "24/24 [==============================] - 0s 3ms/step - loss: 0.9835 - accuracy: 0.5763 - val_loss: 1.0116 - val_accuracy: 0.5602\n",
      "Epoch 55/100\n",
      "24/24 [==============================] - 0s 3ms/step - loss: 0.9802 - accuracy: 0.5803 - val_loss: 1.0250 - val_accuracy: 0.5497\n",
      "Epoch 56/100\n",
      "24/24 [==============================] - 0s 3ms/step - loss: 0.9954 - accuracy: 0.5671 - val_loss: 1.0584 - val_accuracy: 0.5288\n",
      "Epoch 57/100\n",
      "24/24 [==============================] - 0s 5ms/step - loss: 0.9854 - accuracy: 0.5750 - val_loss: 1.0121 - val_accuracy: 0.5079\n",
      "Epoch 58/100\n",
      "24/24 [==============================] - 0s 5ms/step - loss: 0.9777 - accuracy: 0.5908 - val_loss: 1.0210 - val_accuracy: 0.5131\n",
      "Epoch 59/100\n",
      "24/24 [==============================] - 0s 4ms/step - loss: 1.0070 - accuracy: 0.5724 - val_loss: 1.0633 - val_accuracy: 0.5079\n",
      "Epoch 60/100\n",
      "24/24 [==============================] - 0s 3ms/step - loss: 1.0040 - accuracy: 0.5566 - val_loss: 1.0406 - val_accuracy: 0.5183\n",
      "Epoch 61/100\n",
      "24/24 [==============================] - 0s 3ms/step - loss: 0.9855 - accuracy: 0.5842 - val_loss: 1.0168 - val_accuracy: 0.5079\n",
      "Epoch 62/100\n",
      "24/24 [==============================] - 0s 3ms/step - loss: 0.9690 - accuracy: 0.5868 - val_loss: 1.0467 - val_accuracy: 0.5236\n",
      "Epoch 63/100\n",
      "24/24 [==============================] - 0s 4ms/step - loss: 0.9988 - accuracy: 0.5658 - val_loss: 1.0024 - val_accuracy: 0.5654\n",
      "Epoch 64/100\n",
      "24/24 [==============================] - 0s 4ms/step - loss: 0.9850 - accuracy: 0.5645 - val_loss: 1.0711 - val_accuracy: 0.5288\n",
      "Epoch 65/100\n",
      "24/24 [==============================] - 0s 4ms/step - loss: 1.0181 - accuracy: 0.5645 - val_loss: 1.0117 - val_accuracy: 0.5236\n",
      "Epoch 66/100\n",
      "24/24 [==============================] - 0s 4ms/step - loss: 0.9761 - accuracy: 0.5868 - val_loss: 1.0365 - val_accuracy: 0.5236\n",
      "Epoch 67/100\n",
      "24/24 [==============================] - 0s 5ms/step - loss: 0.9762 - accuracy: 0.5803 - val_loss: 0.9981 - val_accuracy: 0.5288\n",
      "Epoch 68/100\n",
      "24/24 [==============================] - 0s 5ms/step - loss: 0.9812 - accuracy: 0.5632 - val_loss: 1.1031 - val_accuracy: 0.5183\n",
      "Epoch 69/100\n",
      "24/24 [==============================] - 0s 5ms/step - loss: 0.9884 - accuracy: 0.5947 - val_loss: 1.0620 - val_accuracy: 0.5236\n",
      "Epoch 70/100\n",
      "24/24 [==============================] - 0s 3ms/step - loss: 0.9801 - accuracy: 0.5803 - val_loss: 1.0702 - val_accuracy: 0.5236\n",
      "Epoch 71/100\n",
      "24/24 [==============================] - 0s 3ms/step - loss: 1.0047 - accuracy: 0.5566 - val_loss: 1.0218 - val_accuracy: 0.4869\n",
      "Epoch 72/100\n",
      "24/24 [==============================] - 0s 3ms/step - loss: 0.9859 - accuracy: 0.5816 - val_loss: 1.0389 - val_accuracy: 0.5026\n",
      "Epoch 73/100\n",
      "24/24 [==============================] - 0s 3ms/step - loss: 1.0063 - accuracy: 0.5645 - val_loss: 1.0408 - val_accuracy: 0.5131\n",
      "Epoch 74/100\n",
      "24/24 [==============================] - 0s 5ms/step - loss: 0.9683 - accuracy: 0.5842 - val_loss: 1.0452 - val_accuracy: 0.5236\n",
      "Epoch 75/100\n",
      "24/24 [==============================] - 0s 5ms/step - loss: 0.9648 - accuracy: 0.5868 - val_loss: 1.0150 - val_accuracy: 0.5445\n",
      "Epoch 76/100\n",
      "24/24 [==============================] - 0s 4ms/step - loss: 0.9717 - accuracy: 0.5829 - val_loss: 1.0052 - val_accuracy: 0.5497\n",
      "Epoch 77/100\n",
      "24/24 [==============================] - 0s 5ms/step - loss: 0.9703 - accuracy: 0.5908 - val_loss: 1.0418 - val_accuracy: 0.4921\n",
      "Epoch 78/100\n",
      "24/24 [==============================] - 0s 4ms/step - loss: 1.0006 - accuracy: 0.5882 - val_loss: 1.0117 - val_accuracy: 0.5445\n",
      "Epoch 79/100\n",
      "24/24 [==============================] - 0s 4ms/step - loss: 0.9979 - accuracy: 0.5697 - val_loss: 1.0328 - val_accuracy: 0.5445\n",
      "Epoch 80/100\n",
      "24/24 [==============================] - 0s 4ms/step - loss: 0.9736 - accuracy: 0.5868 - val_loss: 1.0132 - val_accuracy: 0.5550\n",
      "Epoch 81/100\n",
      "24/24 [==============================] - 0s 4ms/step - loss: 0.9729 - accuracy: 0.5908 - val_loss: 1.0278 - val_accuracy: 0.5550\n",
      "Epoch 82/100\n",
      "24/24 [==============================] - 0s 5ms/step - loss: 0.9599 - accuracy: 0.5934 - val_loss: 1.0309 - val_accuracy: 0.5236\n",
      "Epoch 83/100\n",
      "24/24 [==============================] - 0s 4ms/step - loss: 0.9833 - accuracy: 0.5737 - val_loss: 1.0488 - val_accuracy: 0.5550\n",
      "Epoch 84/100\n",
      "24/24 [==============================] - 0s 4ms/step - loss: 0.9680 - accuracy: 0.5842 - val_loss: 1.0260 - val_accuracy: 0.5288\n",
      "Epoch 85/100\n",
      "24/24 [==============================] - 0s 4ms/step - loss: 0.9711 - accuracy: 0.5868 - val_loss: 1.0266 - val_accuracy: 0.5445\n",
      "Epoch 86/100\n",
      "24/24 [==============================] - 0s 5ms/step - loss: 0.9648 - accuracy: 0.5908 - val_loss: 1.0041 - val_accuracy: 0.5497\n",
      "Epoch 87/100\n",
      "24/24 [==============================] - 0s 5ms/step - loss: 0.9704 - accuracy: 0.5855 - val_loss: 1.0424 - val_accuracy: 0.5550\n",
      "Epoch 88/100\n",
      "24/24 [==============================] - 0s 4ms/step - loss: 0.9660 - accuracy: 0.5763 - val_loss: 1.0015 - val_accuracy: 0.5183\n",
      "Epoch 89/100\n",
      "24/24 [==============================] - 0s 4ms/step - loss: 0.9635 - accuracy: 0.5921 - val_loss: 1.0162 - val_accuracy: 0.5393\n",
      "Epoch 90/100\n",
      "24/24 [==============================] - 0s 4ms/step - loss: 1.0013 - accuracy: 0.5763 - val_loss: 1.0357 - val_accuracy: 0.5079\n",
      "Epoch 91/100\n",
      "24/24 [==============================] - 0s 4ms/step - loss: 0.9660 - accuracy: 0.5868 - val_loss: 1.0213 - val_accuracy: 0.5550\n",
      "Epoch 92/100\n",
      "24/24 [==============================] - 0s 4ms/step - loss: 0.9591 - accuracy: 0.5921 - val_loss: 1.0056 - val_accuracy: 0.5445\n",
      "Epoch 93/100\n",
      "24/24 [==============================] - 0s 4ms/step - loss: 0.9719 - accuracy: 0.5882 - val_loss: 1.0099 - val_accuracy: 0.5026\n",
      "Epoch 94/100\n",
      "24/24 [==============================] - 0s 4ms/step - loss: 0.9992 - accuracy: 0.5553 - val_loss: 1.0591 - val_accuracy: 0.5131\n",
      "Epoch 95/100\n",
      "24/24 [==============================] - 0s 4ms/step - loss: 0.9858 - accuracy: 0.5803 - val_loss: 1.0254 - val_accuracy: 0.4869\n",
      "Epoch 96/100\n",
      "24/24 [==============================] - 0s 4ms/step - loss: 0.9739 - accuracy: 0.5776 - val_loss: 1.0403 - val_accuracy: 0.5236\n",
      "Epoch 97/100\n",
      "24/24 [==============================] - 0s 4ms/step - loss: 0.9702 - accuracy: 0.5961 - val_loss: 1.0039 - val_accuracy: 0.5340\n",
      "Epoch 98/100\n",
      "24/24 [==============================] - 0s 4ms/step - loss: 0.9770 - accuracy: 0.5750 - val_loss: 1.0660 - val_accuracy: 0.5183\n",
      "Epoch 99/100\n",
      "24/24 [==============================] - 0s 4ms/step - loss: 0.9771 - accuracy: 0.5829 - val_loss: 0.9979 - val_accuracy: 0.5393\n",
      "Epoch 100/100\n",
      "24/24 [==============================] - 0s 3ms/step - loss: 1.0195 - accuracy: 0.5776 - val_loss: 1.1246 - val_accuracy: 0.5340\n"
     ]
    }
   ],
   "source": [
    "mod_new = classifier_opt.fit(x_cval_train, y_cval_train,           \n",
    "          validation_data=(x_cval,y_cval),\n",
    "          epochs=100,\n",
    "          batch_size=32)"
   ]
  },
  {
   "cell_type": "code",
   "execution_count": 162,
   "id": "e34e3e16",
   "metadata": {},
   "outputs": [
    {
     "name": "stdout",
     "output_type": "stream",
     "text": [
      "[1.0130152702331543, 0.5855262875556946]\n"
     ]
    }
   ],
   "source": [
    "score = classifier_opt.evaluate(x_cval_train, y_cval_train, verbose=0)\n",
    "print(score)"
   ]
  },
  {
   "cell_type": "code",
   "execution_count": 163,
   "id": "efeb0540",
   "metadata": {},
   "outputs": [
    {
     "name": "stdout",
     "output_type": "stream",
     "text": [
      "[1.0687837600708008, 0.5710784196853638]\n"
     ]
    }
   ],
   "source": [
    "score_t = classifier_opt.evaluate(x_cat_test, y_cat_test, verbose=0)\n",
    "print( score_t)"
   ]
  },
  {
   "cell_type": "markdown",
   "id": "1d261f1a",
   "metadata": {},
   "source": [
    "E. Plot visuals as in Q3.C and share insights about difference observed in both the models."
   ]
  },
  {
   "cell_type": "code",
   "execution_count": 164,
   "id": "ec218752",
   "metadata": {},
   "outputs": [
    {
     "data": {
      "image/png": "[encoded data removed]",
      "text/plain": [
       "<Figure size 432x288 with 1 Axes>"
      ]
     },
     "metadata": {
      "needs_background": "light"
     },
     "output_type": "display_data"
    }
   ],
   "source": [
    "plt.plot(mod_new.history['accuracy'])\n",
    "plt.plot(mod_new.history['val_accuracy'])\n",
    "plt.title('model accuracy')\n",
    "plt.ylabel('accuracy')\n",
    "plt.xlabel('epoch')\n",
    "plt.legend(['train','validation'],loc='upper left')\n",
    "plt.show()"
   ]
  },
  {
   "cell_type": "code",
   "execution_count": 165,
   "id": "0f1ed4bd",
   "metadata": {},
   "outputs": [
    {
     "data": {
      "image/png": "[encoded data removed]",
      "text/plain": [
       "<Figure size 432x288 with 1 Axes>"
      ]
     },
     "metadata": {
      "needs_background": "light"
     },
     "output_type": "display_data"
    }
   ],
   "source": [
    "plt.plot(mod_new.history['loss'])\n",
    "plt.plot(mod_new.history['val_loss'])\n",
    "plt.title('model loss')\n",
    "plt.ylabel('loss')\n",
    "plt.xlabel('epoch')\n",
    "plt.legend(['train','validation'],loc='upper left')\n",
    "plt.show()"
   ]
  },
  {
   "cell_type": "markdown",
   "id": "70890f9e",
   "metadata": {},
   "source": [
    "Looking at the accuracies when we can say that when we change the optimizier, added more layers and changed the loss function, the accuracy increases."
   ]
  },
  {
   "cell_type": "markdown",
   "id": "331a19c8",
   "metadata": {},
   "source": [
    "# PART B - DOMAIN: Autonomous Vehicles"
   ]
  },
  {
   "cell_type": "markdown",
   "id": "75c6d444",
   "metadata": {},
   "source": [
    "# 1. Data Import and Exploration"
   ]
  },
  {
   "cell_type": "markdown",
   "id": "7452f55e",
   "metadata": {},
   "source": [
    "A. Read the .h5 file and assign to a variable. \n",
    "\n",
    "B. Print all the keys from the .h5 file.\n",
    "\n",
    "C. Split the data into X_train, X_test, Y_train, Y_test"
   ]
  },
  {
   "cell_type": "code",
   "execution_count": 91,
   "id": "c159663f",
   "metadata": {},
   "outputs": [],
   "source": [
    "import h5py\n",
    "from tensorflow.keras.utils import to_categorical\n",
    "from tensorflow.keras import optimizers\n",
    "from tensorflow.keras.models import Sequential\n",
    "from tensorflow.keras.layers import Dense\n",
    "from keras.layers import BatchNormalization"
   ]
  },
  {
   "cell_type": "code",
   "execution_count": 92,
   "id": "8fc90318",
   "metadata": {},
   "outputs": [
    {
     "data": {
      "text/plain": [
       "<KeysViewHDF5 ['X_test', 'X_train', 'X_val', 'y_test', 'y_train', 'y_val']>"
      ]
     },
     "execution_count": 92,
     "metadata": {},
     "output_type": "execute_result"
    }
   ],
   "source": [
    "# Open the file as readonly\n",
    "h5f = h5py.File('Autonomous_Vehicles_SVHN_single_grey1.h5', 'r')\n",
    "\n",
    "h5f.keys()"
   ]
  },
  {
   "cell_type": "markdown",
   "id": "10c79352",
   "metadata": {},
   "source": [
    "Data pre-processing and visualisation"
   ]
  },
  {
   "cell_type": "code",
   "execution_count": 93,
   "id": "36f56531",
   "metadata": {},
   "outputs": [],
   "source": [
    "# Load the training, test and validation set\n",
    "X_train = h5f['X_train'][:]\n",
    "y_train = h5f['y_train'][:]\n",
    "X_test = h5f['X_test'][:]\n",
    "y_test = h5f['y_test'][:]"
   ]
  },
  {
   "cell_type": "markdown",
   "id": "c2213d4e",
   "metadata": {},
   "source": [
    "# 2. Data Visualisation and preprocessing"
   ]
  },
  {
   "cell_type": "markdown",
   "id": "096a7e4b",
   "metadata": {},
   "source": [
    "A. Print shape of all the 4 data split into x, y, train, test to verify if x & y is in sync. \n",
    "\n",
    "B. Visualise first 10 images in train data and print its corresponding labels.\n",
    "\n",
    "C. Reshape all the images with appropriate shape update the data in same variable.\n",
    "\n",
    "D. Normalise the images i.e. Normalise the pixel values. \n",
    "\n",
    "E. Transform Labels into format acceptable by Neural Network \n",
    "\n",
    "F. Print total Number of classes in the Dataset. "
   ]
  },
  {
   "cell_type": "code",
   "execution_count": 94,
   "id": "2a4ebfa1",
   "metadata": {},
   "outputs": [
    {
     "data": {
      "text/plain": [
       "array([[[ 33.0704,  30.2601,  26.852 , ...,  71.4471,  58.2204,\n",
       "          42.9939],\n",
       "        [ 25.2283,  25.5533,  29.9765, ..., 113.0209, 103.3639,\n",
       "          84.2949],\n",
       "        [ 26.2775,  22.6137,  40.4763, ..., 113.3028, 121.775 ,\n",
       "         115.4228],\n",
       "        ...,\n",
       "        [ 28.5502,  36.212 ,  45.0801, ...,  24.1359,  25.0927,\n",
       "          26.0603],\n",
       "        [ 38.4352,  26.4733,  23.2717, ...,  28.1094,  29.4683,\n",
       "          30.0661],\n",
       "        [ 50.2984,  26.0773,  24.0389, ...,  49.6682,  50.853 ,\n",
       "          53.0377]]], dtype=float32)"
      ]
     },
     "execution_count": 94,
     "metadata": {},
     "output_type": "execute_result"
    }
   ],
   "source": [
    "#Checking few contents of features and labels of one example from the images\n",
    "X_train[:1]"
   ]
  },
  {
   "cell_type": "code",
   "execution_count": 95,
   "id": "ae7e4e99",
   "metadata": {},
   "outputs": [
    {
     "data": {
      "text/plain": [
       "array([2], dtype=uint8)"
      ]
     },
     "execution_count": 95,
     "metadata": {},
     "output_type": "execute_result"
    }
   ],
   "source": [
    "y_train[:1]"
   ]
  },
  {
   "cell_type": "code",
   "execution_count": 96,
   "id": "83755969",
   "metadata": {},
   "outputs": [
    {
     "data": {
      "text/plain": [
       "array([[[ 40.558 ,  46.7917,  48.9764, ..., 112.1153, 112.9904,\n",
       "         112.1646],\n",
       "        [ 39.4379,  44.2911,  47.1768, ..., 111.0122, 110.9475,\n",
       "         109.9368],\n",
       "        [ 38.4488,  43.6394,  48.7098, ..., 109.8921, 109.9414,\n",
       "         109.1048],\n",
       "        ...,\n",
       "        [ 34.9869,  35.4707,  39.6676, ..., 109.211 , 109.9074,\n",
       "         112.7346],\n",
       "        [ 35.6602,  35.5462,  40.3193, ..., 110.9998, 112.049 ,\n",
       "         114.3431],\n",
       "        [ 36.1871,  35.4214,  40.6998, ..., 110.0169, 111.2017,\n",
       "         114.1906]]], dtype=float32)"
      ]
     },
     "execution_count": 96,
     "metadata": {},
     "output_type": "execute_result"
    }
   ],
   "source": [
    "X_test[:1]"
   ]
  },
  {
   "cell_type": "code",
   "execution_count": 97,
   "id": "e126dc9a",
   "metadata": {},
   "outputs": [
    {
     "data": {
      "text/plain": [
       "array([1], dtype=uint8)"
      ]
     },
     "execution_count": 97,
     "metadata": {},
     "output_type": "execute_result"
    }
   ],
   "source": [
    "y_test[:1]"
   ]
  },
  {
   "cell_type": "markdown",
   "id": "6e113d50",
   "metadata": {},
   "source": [
    "Visualising the first 10 images in the dataset."
   ]
  },
  {
   "cell_type": "code",
   "execution_count": 99,
   "id": "3dbb9e7c",
   "metadata": {},
   "outputs": [
    {
     "data": {
      "image/png": "[encoded data removed]",
      "text/plain": [
       "<Figure size 720x72 with 10 Axes>"
      ]
     },
     "metadata": {
      "needs_background": "light"
     },
     "output_type": "display_data"
    },
    {
     "name": "stdout",
     "output_type": "stream",
     "text": [
      "label for each of the above image: [2 6 7 4 4 0 3 0 7 3]\n"
     ]
    }
   ],
   "source": [
    "# visualizing the first 10 images in the dataset and their labels\n",
    "%matplotlib inline\n",
    "import matplotlib.pyplot as plt\n",
    "plt.figure(figsize=(10, 1))\n",
    "for i in range(10):\n",
    "    plt.subplot(1, 10, i+1)\n",
    "    plt.imshow(X_train[i], cmap=\"gray\")\n",
    "    plt.axis('off')\n",
    "plt.show()\n",
    "print('label for each of the above image: %s' % (y_train[0:10]))"
   ]
  },
  {
   "cell_type": "markdown",
   "id": "aa456872",
   "metadata": {},
   "source": [
    "Checking the shape of the data"
   ]
  },
  {
   "cell_type": "code",
   "execution_count": 100,
   "id": "2d21dd66",
   "metadata": {},
   "outputs": [
    {
     "data": {
      "text/plain": [
       "(42000, 32, 32)"
      ]
     },
     "execution_count": 100,
     "metadata": {},
     "output_type": "execute_result"
    }
   ],
   "source": [
    "X_train.shape"
   ]
  },
  {
   "cell_type": "code",
   "execution_count": 101,
   "id": "35a95de5",
   "metadata": {},
   "outputs": [
    {
     "data": {
      "text/plain": [
       "(42000,)"
      ]
     },
     "execution_count": 101,
     "metadata": {},
     "output_type": "execute_result"
    }
   ],
   "source": [
    "y_train.shape"
   ]
  },
  {
   "cell_type": "markdown",
   "id": "4cd4d021",
   "metadata": {},
   "source": [
    "Need to reshape the X_train and X_test so that the same can be fed for model building.RESHAPE 2D - 32*32 into 1D - 1024.We will normalize the data. We divide by 255 as this is a grayscale image and can take values from 0-255"
   ]
  },
  {
   "cell_type": "code",
   "execution_count": 102,
   "id": "5b09f898",
   "metadata": {},
   "outputs": [
    {
     "name": "stdout",
     "output_type": "stream",
     "text": [
      "Resized Training set (42000, 1024) (42000,)\n",
      "Resized Test set (18000, 1024) (18000,)\n"
     ]
    }
   ],
   "source": [
    "X_train = X_train.reshape(X_train.shape[0], 1024)\n",
    "X_test = X_test.reshape(X_test.shape[0], 1024)\n",
    "\n",
    "# # normalize inputs from 0-255 to 0-1\n",
    "X_train = X_train / 255.0\n",
    "X_test = X_test / 255.0\n",
    "\n",
    "print('Resized Training set', X_train.shape, y_train.shape)\n",
    "print('Resized Test set', X_test.shape, y_test.shape)"
   ]
  },
  {
   "cell_type": "markdown",
   "id": "5c9131a9",
   "metadata": {},
   "source": [
    "Encoding the target variables. We need to one hot encode the labels for the model to understand the labels better. We will be using categorical cross entropy as our loss function and for this purpose we need our labels to be in one hot encoded format."
   ]
  },
  {
   "cell_type": "code",
   "execution_count": 103,
   "id": "5af2ed0f",
   "metadata": {},
   "outputs": [
    {
     "name": "stdout",
     "output_type": "stream",
     "text": [
      "The number of classes in this dataset are: 10\n"
     ]
    }
   ],
   "source": [
    "# one hot encode outputs\n",
    "y_train = to_categorical(y_train)\n",
    "y_test = to_categorical(y_test)\n",
    "\n",
    "# no.of classes\n",
    "num_classes = y_test.shape[1] \n",
    "print(\"The number of classes in this dataset are:\",num_classes)"
   ]
  },
  {
   "cell_type": "markdown",
   "id": "3cde2171",
   "metadata": {},
   "source": [
    "# 3. Model Training & Evaluation using Neural Network"
   ]
  },
  {
   "cell_type": "markdown",
   "id": "4a0f83cd",
   "metadata": {},
   "source": [
    "A. Design a Neural Network to train a classifier. \n",
    "\n",
    "B. Train the classifier using previously designed Architecture (Use best suitable parameters).\n",
    "\n",
    "C. Evaluate performance of the model with appropriate metrics. \n",
    "\n",
    "D. Plot the training loss, validation loss vs number of epochs and training accuracy, validation accuracy vs number of epochs plot and write your observations on the same."
   ]
  },
  {
   "cell_type": "raw",
   "id": "b04f4245",
   "metadata": {},
   "source": [
    "Design, train, tune and test a neural network image classifier.\n",
    "\n",
    "Building the neural network model, fitting the training data, testing it and providing model summary\n",
    "\n",
    "Initialize a sequential model again\n",
    "\n",
    "Define a sequential model\n",
    "\n",
    "Added 4 Dense layers\n",
    "\n",
    "Hidden Dense Layer Activation: \"relu\"\n",
    "    \n",
    "Output Dense layer Activation: \"softmax\"\n",
    "    \n",
    "Optimizer : Adam\n",
    "    \n",
    "Loss : categorical_crossentropy\n",
    "    \n",
    "Batch Size : 300\n",
    "    \n",
    "learning_rate = 1e-3\n",
    "\n",
    "epochs = 32\n",
    "\n",
    "Batch Normalization : - Speed Up the Training"
   ]
  },
  {
   "cell_type": "code",
   "execution_count": 104,
   "id": "18fc4ea8",
   "metadata": {},
   "outputs": [],
   "source": [
    "# define model\n",
    "\n",
    "\n",
    "def nn_model():\n",
    "    # create model\n",
    "  model= Sequential()\n",
    "  model.add(BatchNormalization(input_shape=((1024,)))) \n",
    "  model.add(Dense(256,activation='relu'))\n",
    "  model.add(BatchNormalization())                    \n",
    "  model.add(Dense(64,activation='relu'))\n",
    "  model.add(BatchNormalization())                    \n",
    "  model.add(Dense(32,activation='relu'))\n",
    "  model.add(BatchNormalization())                    \n",
    "  model.add(Dense(num_classes,activation='softmax'))\n",
    "  return model"
   ]
  },
  {
   "cell_type": "code",
   "execution_count": 105,
   "id": "6717b00b",
   "metadata": {},
   "outputs": [],
   "source": [
    "# build the model\n",
    "model = nn_model()"
   ]
  },
  {
   "cell_type": "code",
   "execution_count": 106,
   "id": "5ab32eb1",
   "metadata": {},
   "outputs": [],
   "source": [
    "# Compile model\n",
    "adam= optimizers.Adam(learning_rate =1e-3)\n",
    "\n",
    "### Loss function = Categorical cross entropy\n",
    "model.compile(loss='categorical_crossentropy', optimizer=adam, metrics=['accuracy'])"
   ]
  },
  {
   "cell_type": "code",
   "execution_count": 107,
   "id": "030b2de3",
   "metadata": {},
   "outputs": [
    {
     "name": "stdout",
     "output_type": "stream",
     "text": [
      "Epoch 1/32\n",
      "60/60 - 3s - loss: 1.9823 - accuracy: 0.3256 - val_loss: 2.1741 - val_accuracy: 0.2636 - 3s/epoch - 43ms/step\n",
      "Epoch 2/32\n",
      "60/60 - 1s - loss: 1.3687 - accuracy: 0.5823 - val_loss: 1.8022 - val_accuracy: 0.4753 - 1s/epoch - 19ms/step\n",
      "Epoch 3/32\n",
      "60/60 - 1s - loss: 1.0929 - accuracy: 0.6692 - val_loss: 1.3386 - val_accuracy: 0.6343 - 1s/epoch - 20ms/step\n",
      "Epoch 4/32\n",
      "60/60 - 1s - loss: 0.9443 - accuracy: 0.7085 - val_loss: 1.0376 - val_accuracy: 0.7129 - 1s/epoch - 23ms/step\n",
      "Epoch 5/32\n",
      "60/60 - 1s - loss: 0.8303 - accuracy: 0.7424 - val_loss: 0.8552 - val_accuracy: 0.7499 - 1s/epoch - 24ms/step\n",
      "Epoch 6/32\n",
      "60/60 - 1s - loss: 0.7676 - accuracy: 0.7588 - val_loss: 0.7756 - val_accuracy: 0.7650 - 1s/epoch - 20ms/step\n",
      "Epoch 7/32\n",
      "60/60 - 1s - loss: 0.7088 - accuracy: 0.7794 - val_loss: 0.6547 - val_accuracy: 0.7971 - 1s/epoch - 18ms/step\n",
      "Epoch 8/32\n",
      "60/60 - 1s - loss: 0.6496 - accuracy: 0.7970 - val_loss: 0.6338 - val_accuracy: 0.8002 - 1s/epoch - 21ms/step\n",
      "Epoch 9/32\n",
      "60/60 - 2s - loss: 0.6108 - accuracy: 0.8086 - val_loss: 0.5452 - val_accuracy: 0.8324 - 2s/epoch - 25ms/step\n",
      "Epoch 10/32\n",
      "60/60 - 2s - loss: 0.5511 - accuracy: 0.8287 - val_loss: 0.4875 - val_accuracy: 0.8519 - 2s/epoch - 30ms/step\n",
      "Epoch 11/32\n",
      "60/60 - 1s - loss: 0.5307 - accuracy: 0.8353 - val_loss: 0.5381 - val_accuracy: 0.8322 - 1s/epoch - 22ms/step\n",
      "Epoch 12/32\n",
      "60/60 - 1s - loss: 0.5113 - accuracy: 0.8395 - val_loss: 0.4707 - val_accuracy: 0.8537 - 1s/epoch - 23ms/step\n",
      "Epoch 13/32\n",
      "60/60 - 1s - loss: 0.4777 - accuracy: 0.8492 - val_loss: 0.4397 - val_accuracy: 0.8657 - 1s/epoch - 19ms/step\n",
      "Epoch 14/32\n",
      "60/60 - 1s - loss: 0.4550 - accuracy: 0.8580 - val_loss: 0.4479 - val_accuracy: 0.8597 - 1s/epoch - 25ms/step\n",
      "Epoch 15/32\n",
      "60/60 - 1s - loss: 0.4335 - accuracy: 0.8636 - val_loss: 0.3827 - val_accuracy: 0.8821 - 1s/epoch - 22ms/step\n",
      "Epoch 16/32\n",
      "60/60 - 1s - loss: 0.3960 - accuracy: 0.8755 - val_loss: 0.3517 - val_accuracy: 0.8946 - 1s/epoch - 21ms/step\n",
      "Epoch 17/32\n",
      "60/60 - 1s - loss: 0.4004 - accuracy: 0.8710 - val_loss: 0.3547 - val_accuracy: 0.8947 - 1s/epoch - 22ms/step\n",
      "Epoch 18/32\n",
      "60/60 - 1s - loss: 0.3903 - accuracy: 0.8782 - val_loss: 0.3519 - val_accuracy: 0.8943 - 1s/epoch - 24ms/step\n",
      "Epoch 19/32\n",
      "60/60 - 1s - loss: 0.3683 - accuracy: 0.8828 - val_loss: 0.3278 - val_accuracy: 0.8992 - 1s/epoch - 23ms/step\n",
      "Epoch 20/32\n",
      "60/60 - 1s - loss: 0.3563 - accuracy: 0.8859 - val_loss: 0.3480 - val_accuracy: 0.8942 - 1s/epoch - 24ms/step\n",
      "Epoch 21/32\n",
      "60/60 - 2s - loss: 0.3359 - accuracy: 0.8977 - val_loss: 0.2925 - val_accuracy: 0.9094 - 2s/epoch - 26ms/step\n",
      "Epoch 22/32\n",
      "60/60 - 1s - loss: 0.3302 - accuracy: 0.8969 - val_loss: 0.2983 - val_accuracy: 0.9088 - 1s/epoch - 24ms/step\n",
      "Epoch 23/32\n",
      "60/60 - 1s - loss: 0.2988 - accuracy: 0.9083 - val_loss: 0.2673 - val_accuracy: 0.9176 - 1s/epoch - 24ms/step\n",
      "Epoch 24/32\n",
      "60/60 - 1s - loss: 0.2984 - accuracy: 0.9066 - val_loss: 0.2465 - val_accuracy: 0.9237 - 1s/epoch - 21ms/step\n",
      "Epoch 25/32\n",
      "60/60 - 1s - loss: 0.3182 - accuracy: 0.8959 - val_loss: 0.2998 - val_accuracy: 0.9082 - 1s/epoch - 23ms/step\n",
      "Epoch 26/32\n",
      "60/60 - 1s - loss: 0.2891 - accuracy: 0.9081 - val_loss: 0.2312 - val_accuracy: 0.9316 - 1s/epoch - 23ms/step\n",
      "Epoch 27/32\n",
      "60/60 - 2s - loss: 0.2609 - accuracy: 0.9186 - val_loss: 0.2183 - val_accuracy: 0.9338 - 2s/epoch - 31ms/step\n",
      "Epoch 28/32\n",
      "60/60 - 1s - loss: 0.2470 - accuracy: 0.9226 - val_loss: 0.2145 - val_accuracy: 0.9386 - 1s/epoch - 22ms/step\n",
      "Epoch 29/32\n",
      "60/60 - 1s - loss: 0.2642 - accuracy: 0.9176 - val_loss: 0.2100 - val_accuracy: 0.9352 - 1s/epoch - 25ms/step\n",
      "Epoch 30/32\n",
      "60/60 - 1s - loss: 0.2417 - accuracy: 0.9233 - val_loss: 0.2047 - val_accuracy: 0.9386 - 1s/epoch - 19ms/step\n",
      "Epoch 31/32\n",
      "60/60 - 1s - loss: 0.2218 - accuracy: 0.9302 - val_loss: 0.2050 - val_accuracy: 0.9374 - 1s/epoch - 21ms/step\n",
      "Epoch 32/32\n",
      "60/60 - 1s - loss: 0.2204 - accuracy: 0.9303 - val_loss: 0.2014 - val_accuracy: 0.9382 - 1s/epoch - 18ms/step\n"
     ]
    }
   ],
   "source": [
    "# Fitting the model\n",
    "training_history = model.fit(X_test,y_test, validation_data=(X_test,y_test),epochs=32,batch_size=300,verbose=2)"
   ]
  },
  {
   "cell_type": "code",
   "execution_count": 108,
   "id": "f2d720a2",
   "metadata": {},
   "outputs": [
    {
     "name": "stdout",
     "output_type": "stream",
     "text": [
      "Error:6.18%\n",
      "Model: \"sequential_3\"\n",
      "_________________________________________________________________\n",
      " Layer (type)                Output Shape              Param #   \n",
      "=================================================================\n",
      " batch_normalization_2 (Batc  (None, 1024)             4096      \n",
      " hNormalization)                                                 \n",
      "                                                                 \n",
      " dense_5 (Dense)             (None, 256)               262400    \n",
      "                                                                 \n",
      " batch_normalization_3 (Batc  (None, 256)              1024      \n",
      " hNormalization)                                                 \n",
      "                                                                 \n",
      " dense_6 (Dense)             (None, 64)                16448     \n",
      "                                                                 \n",
      " batch_normalization_4 (Batc  (None, 64)               256       \n",
      " hNormalization)                                                 \n",
      "                                                                 \n",
      " dense_7 (Dense)             (None, 32)                2080      \n",
      "                                                                 \n",
      " batch_normalization_5 (Batc  (None, 32)               128       \n",
      " hNormalization)                                                 \n",
      "                                                                 \n",
      " dense_8 (Dense)             (None, 10)                330       \n",
      "                                                                 \n",
      "=================================================================\n",
      "Total params: 286,762\n",
      "Trainable params: 284,010\n",
      "Non-trainable params: 2,752\n",
      "_________________________________________________________________\n"
     ]
    }
   ],
   "source": [
    "scores= model.evaluate(X_test,y_test,verbose=0)\n",
    "print(\"Error:%.2f%%\" %(100-scores[1]*100))\n",
    "model.summary()"
   ]
  },
  {
   "cell_type": "raw",
   "id": "c477f25d",
   "metadata": {},
   "source": [
    "Plot the training loss, validation loss vs number of epochs and training accuracy, validation accuracy vs number of epochs plot and write your observations on the same."
   ]
  },
  {
   "cell_type": "code",
   "execution_count": 109,
   "id": "f8c11e6f",
   "metadata": {},
   "outputs": [
    {
     "name": "stdout",
     "output_type": "stream",
     "text": [
      "Loss: 0.20140865445137024\n",
      "Accuracy: 0.9382222294807434\n"
     ]
    }
   ],
   "source": [
    "# Final evaluation of the model\n",
    "scores = model.evaluate(X_test, y_test, verbose=0)\n",
    "print(\"Loss:\", scores[0])\n",
    "print(\"Accuracy:\", scores[1])"
   ]
  },
  {
   "cell_type": "code",
   "execution_count": 110,
   "id": "89cb76a4",
   "metadata": {},
   "outputs": [
    {
     "data": {
      "image/png": "[encoded data removed]",
      "text/plain": [
       "<Figure size 432x288 with 1 Axes>"
      ]
     },
     "metadata": {
      "needs_background": "light"
     },
     "output_type": "display_data"
    }
   ],
   "source": [
    "#summarize history for accuracy\n",
    "plt.plot(training_history.history['accuracy'])\n",
    "plt.plot(training_history.history['val_accuracy'])\n",
    "plt.title('model accuracy')\n",
    "plt.ylabel('accuracy')\n",
    "plt.xlabel('epoch')\n",
    "plt.legend(['train','test'],loc='upper left')\n",
    "plt.show()"
   ]
  },
  {
   "cell_type": "code",
   "execution_count": 111,
   "id": "522d4caa",
   "metadata": {},
   "outputs": [
    {
     "data": {
      "image/png": "[encoded data removed]",
      "text/plain": [
       "<Figure size 432x288 with 1 Axes>"
      ]
     },
     "metadata": {
      "needs_background": "light"
     },
     "output_type": "display_data"
    }
   ],
   "source": [
    "# summarize history for loss\n",
    "plt.plot(training_history.history['loss'])\n",
    "plt.plot(training_history.history['val_loss'])\n",
    "plt.title('model loss')\n",
    "plt.ylabel('loss')\n",
    "plt.xlabel('epoch')\n",
    "plt.legend(['train','test'],loc='upper left')\n",
    "plt.show()"
   ]
  },
  {
   "cell_type": "raw",
   "id": "2dcc0e23",
   "metadata": {},
   "source": [
    "There are around 10 classes in the dataset which represent digits from 0-9.\n",
    "We tried training a Neural Network with dense hidden layers of different number of units and are able to achieve a final test accuracy of 94%.\n",
    "Error is 5.97%\n",
    "Loss is about 0.19\n",
    "Training accuracy is less than testing accuracy. So there is no overfitting issue."
   ]
  },
  {
   "cell_type": "code",
   "execution_count": 112,
   "id": "f72926c6",
   "metadata": {},
   "outputs": [
    {
     "data": {
      "text/plain": [
       "<matplotlib.image.AxesImage at 0x7fb191131160>"
      ]
     },
     "execution_count": 112,
     "metadata": {},
     "output_type": "execute_result"
    },
    {
     "data": {
      "image/png": "[encoded data removed]",
      "text/plain": [
       "<Figure size 432x288 with 1 Axes>"
      ]
     },
     "metadata": {
      "needs_background": "light"
     },
     "output_type": "display_data"
    }
   ],
   "source": [
    "#Showing the image\n",
    "plt.imshow(X_test[5].reshape(32,32), cmap = 'gray')"
   ]
  },
  {
   "cell_type": "code",
   "execution_count": 113,
   "id": "32563951",
   "metadata": {},
   "outputs": [
    {
     "name": "stdout",
     "output_type": "stream",
     "text": [
      "Label:  9\n"
     ]
    }
   ],
   "source": [
    "#Predicting the digits\n",
    "print('Label: ', np.argmax(model.predict(X_test)[5]))"
   ]
  },
  {
   "cell_type": "code",
   "execution_count": 114,
   "id": "bfb86543",
   "metadata": {},
   "outputs": [
    {
     "data": {
      "text/plain": [
       "<matplotlib.image.AxesImage at 0x7fb190f0fbb0>"
      ]
     },
     "execution_count": 114,
     "metadata": {},
     "output_type": "execute_result"
    },
    {
     "data": {
      "image/png": "[encoded data removed]",
      "text/plain": [
       "<Figure size 432x288 with 1 Axes>"
      ]
     },
     "metadata": {
      "needs_background": "light"
     },
     "output_type": "display_data"
    }
   ],
   "source": [
    "#Showing the image\n",
    "plt.imshow(X_test[10].reshape(32,32), cmap = 'gray')"
   ]
  },
  {
   "cell_type": "code",
   "execution_count": 115,
   "id": "e137d651",
   "metadata": {},
   "outputs": [
    {
     "name": "stdout",
     "output_type": "stream",
     "text": [
      "Label:  8\n"
     ]
    }
   ],
   "source": [
    "#Predicting the digits\n",
    "print('Label: ', np.argmax(model.predict(X_test)[10]))"
   ]
  },
  {
   "cell_type": "code",
   "execution_count": 116,
   "id": "a3885440",
   "metadata": {},
   "outputs": [
    {
     "data": {
      "text/plain": [
       "<matplotlib.image.AxesImage at 0x7fb1914ae220>"
      ]
     },
     "execution_count": 116,
     "metadata": {},
     "output_type": "execute_result"
    },
    {
     "data": {
      "image/png": "[encoded data removed]",
      "text/plain": [
       "<Figure size 432x288 with 1 Axes>"
      ]
     },
     "metadata": {
      "needs_background": "light"
     },
     "output_type": "display_data"
    }
   ],
   "source": [
    "#Showing the image\n",
    "plt.imshow(X_test[41].reshape(32,32), cmap = 'gray')"
   ]
  },
  {
   "cell_type": "code",
   "execution_count": 117,
   "id": "a600af97",
   "metadata": {},
   "outputs": [
    {
     "name": "stdout",
     "output_type": "stream",
     "text": [
      "Label:  4\n"
     ]
    }
   ],
   "source": [
    "#Predicting the digits\n",
    "print('Label: ', np.argmax(model.predict(X_test)[41]))"
   ]
  },
  {
   "cell_type": "code",
   "execution_count": 118,
   "id": "2c31a461",
   "metadata": {},
   "outputs": [
    {
     "data": {
      "text/plain": [
       "<matplotlib.image.AxesImage at 0x7fb1916f7a60>"
      ]
     },
     "execution_count": 118,
     "metadata": {},
     "output_type": "execute_result"
    },
    {
     "data": {
      "image/png": "[encoded data removed]",
      "text/plain": [
       "<Figure size 432x288 with 1 Axes>"
      ]
     },
     "metadata": {
      "needs_background": "light"
     },
     "output_type": "display_data"
    }
   ],
   "source": [
    "#Showing the image\n",
    "plt.imshow(X_test[201].reshape(32,32), cmap = 'gray')"
   ]
  },
  {
   "cell_type": "code",
   "execution_count": 119,
   "id": "761f5231",
   "metadata": {},
   "outputs": [
    {
     "name": "stdout",
     "output_type": "stream",
     "text": [
      "Label:  5\n"
     ]
    }
   ],
   "source": [
    "#Predicting the digits\n",
    "print('Label: ', np.argmax(model.predict(X_test)[201]))"
   ]
  },
  {
   "cell_type": "markdown",
   "id": "f46abe63",
   "metadata": {},
   "source": [
    "# Model Accuracy is 94 %"
   ]
  }
 ],
 "metadata": {
  "kernelspec": {
   "display_name": "Python 3",
   "language": "python",
   "name": "python3"
  },
  "language_info": {
   "codemirror_mode": {
    "name": "ipython",
    "version": 3
   },
   "file_extension": ".py",
   "mimetype": "text/x-python",
   "name": "python",
   "nbconvert_exporter": "python",
   "pygments_lexer": "ipython3",
   "version": "3.8.8"
  }
 },
 "nbformat": 4,
 "nbformat_minor": 5
}
